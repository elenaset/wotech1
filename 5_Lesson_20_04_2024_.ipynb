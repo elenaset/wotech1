{
  "nbformat": 4,
  "nbformat_minor": 0,
  "metadata": {
    "colab": {
      "provenance": [],
      "authorship_tag": "ABX9TyNf/NbwkCc12y+NAEH+GmEE",
      "include_colab_link": true
    },
    "kernelspec": {
      "name": "python3",
      "display_name": "Python 3"
    },
    "language_info": {
      "name": "python"
    }
  },
  "cells": [
    {
      "cell_type": "markdown",
      "metadata": {
        "id": "view-in-github",
        "colab_type": "text"
      },
      "source": [
        "<a href=\"https://colab.research.google.com/github/elenaset/wotech1/blob/main/5_Lesson_20_04_2024_.ipynb\" target=\"_parent\"><img src=\"https://colab.research.google.com/assets/colab-badge.svg\" alt=\"Open In Colab\"/></a>"
      ]
    },
    {
      "cell_type": "code",
      "execution_count": null,
      "metadata": {
        "id": "WU9IdD7aJgoa"
      },
      "outputs": [],
      "source": []
    },
    {
      "cell_type": "markdown",
      "source": [],
      "metadata": {
        "id": "KGrnJ-o_JlFv"
      }
    },
    {
      "cell_type": "markdown",
      "source": [
        "List methods\n",
        "For loops in Python\n",
        "Iterating through lists"
      ],
      "metadata": {
        "id": "P1dYw5aCJtjt"
      }
    },
    {
      "cell_type": "code",
      "source": [
        "fruits = [\"apple\", \"orage\", \"banana\", \"grape\", \"kiwi\"]\n",
        "print(fruits)\n",
        "\n",
        "fruit_list = input(\"Enter the fruit name: \")\n",
        "if  fruit_list in fruits:\n",
        "  print(\"This fruit in the list!\")\n",
        "else:\n",
        "  print(\"This fruit is not in the list!\")"
      ],
      "metadata": {
        "colab": {
          "base_uri": "https://localhost:8080/"
        },
        "id": "PJwMvv52Jvee",
        "outputId": "9c8fecf3-2ed9-4064-b208-161bfb16c6a3"
      },
      "execution_count": null,
      "outputs": [
        {
          "output_type": "stream",
          "name": "stdout",
          "text": [
            "['apple', 'orage', 'banana', 'grape', 'kiwi']\n",
            "Enter the fruit name: aaaa\n",
            "This fruit is not in the list!\n"
          ]
        }
      ]
    },
    {
      "cell_type": "markdown",
      "source": [
        "The user is prompted to enter a fruit name using the input() function. We use an if-else statement to check if the entered fruit is present in the fruits list. If the entered fruit is in the list, it prints a confirmation message. Otherwise, it prints a message indicating that the fruit is not in the list."
      ],
      "metadata": {
        "id": "xrPG12BytW8w"
      }
    },
    {
      "cell_type": "markdown",
      "source": [],
      "metadata": {
        "id": "t897vwKFtYsa"
      }
    },
    {
      "cell_type": "code",
      "source": [
        "\n",
        "#Triin example\n",
        "user_input = input(\"Enter a fruit: \")\n",
        "\n",
        "# check if input exists in list\n",
        "\n",
        "if user_input in fruits:\n",
        "  print(\"Yes, it is in the list.\")\n",
        "else:\n",
        "  print(\"NO, it's not in the list.\")"
      ],
      "metadata": {
        "colab": {
          "base_uri": "https://localhost:8080/"
        },
        "id": "2IeSbfysK4mT",
        "outputId": "457534e4-720f-4937-ac97-9332d57c7805"
      },
      "execution_count": null,
      "outputs": [
        {
          "output_type": "stream",
          "name": "stdout",
          "text": [
            "Enter a fruit: apple\n",
            "Yes, it is in the list.\n"
          ]
        }
      ]
    },
    {
      "cell_type": "code",
      "source": [
        "fruits = [\"apple\", \"orange\", \"banana\", \"grape\", \"kiwi\"]\n",
        "\n",
        "check = input(\"Hello, please enter your fruit: \")\n",
        "\n",
        "if check in fruits:\n",
        "    print(f'{check} exists in the list')\n",
        "else:\n",
        "    print(f\"{check} does not exist in the list\")"
      ],
      "metadata": {
        "colab": {
          "base_uri": "https://localhost:8080/"
        },
        "id": "t2H_vjyPLHdC",
        "outputId": "3ad86c21-0ff4-4101-ddab-896a5ab35984"
      },
      "execution_count": null,
      "outputs": [
        {
          "output_type": "stream",
          "name": "stdout",
          "text": [
            "Hello, please enter your fruit: apple\n",
            "apple exists in the list\n"
          ]
        }
      ]
    },
    {
      "cell_type": "code",
      "source": [
        "fruits = [\"apple\", \"orange\", \"banana\", \"grape\", \"kiwi\"]\n",
        "\n",
        "is_fruit = input(\"Enter the fruit name: \")\n",
        "if  is_fruit in fruits:\n",
        "  print(\"There is your fruit in the list!\")\n",
        "else:\n",
        "  print(\"There is not your fruit in the list!\")"
      ],
      "metadata": {
        "colab": {
          "base_uri": "https://localhost:8080/"
        },
        "id": "ZAL-2GrCLMTz",
        "outputId": "b0063bcb-06db-4a75-db17-61d334872565"
      },
      "execution_count": null,
      "outputs": [
        {
          "output_type": "stream",
          "name": "stdout",
          "text": [
            "Enter the fruit name: a\n",
            "There is not your fruit in the list!\n"
          ]
        }
      ]
    },
    {
      "cell_type": "code",
      "source": [
        "#Ieva example\n",
        "fruits = [\"apple\", \"orange\", \"banana\", \"grape\", \"kiwi\"]\n",
        "favourite = input(\"What is your favourite fruit? \")\n",
        "if favourite in fruits:\n",
        "  print(\"Yes, we have it!\")\n",
        "else:\n",
        "  print(f\"No {favourite} in our list.\")"
      ],
      "metadata": {
        "colab": {
          "base_uri": "https://localhost:8080/"
        },
        "id": "zjaHmwMpxgY4",
        "outputId": "07e3d395-1e5a-4359-e274-e164eb7c95bc"
      },
      "execution_count": null,
      "outputs": [
        {
          "output_type": "stream",
          "name": "stdout",
          "text": [
            "What is your favourite fruit? lemon\n",
            "No lemon in our list.\n"
          ]
        }
      ]
    },
    {
      "cell_type": "code",
      "source": [
        "fruits = [\"apple\", \"orange\", \"banana\", \"kiwi\"]\n",
        "choice = input(\"Enter your fruit choice \")\n",
        "\n",
        "if fruits.count(choice):\n",
        "  print(\"We have this fruit\")\n",
        "else:\n",
        "  print(f\"We do not have {choice}\")"
      ],
      "metadata": {
        "colab": {
          "base_uri": "https://localhost:8080/"
        },
        "id": "GY0pK60Ax3P6",
        "outputId": "5639d8b4-ee7d-446a-ca25-e38dd0dd03c7"
      },
      "execution_count": null,
      "outputs": [
        {
          "output_type": "stream",
          "name": "stdout",
          "text": [
            "Enter your fruit choice apple\n",
            "We have this fruit\n"
          ]
        }
      ]
    },
    {
      "cell_type": "code",
      "source": [
        "fruits = [\"apple\", \"orange\", \"banana\", \"kiwi\"]\n",
        "choice = input(\"Enter your fruit choice: \")\n",
        "\n",
        "if choice in fruits:\n",
        "  print(\"We have this fruit\")\n",
        "else:\n",
        "  print(f\"We do not have {choice}\")"
      ],
      "metadata": {
        "colab": {
          "base_uri": "https://localhost:8080/"
        },
        "id": "jwBp0IyzzFvo",
        "outputId": "f46d5d63-1539-4263-86fe-b438021d1502"
      },
      "execution_count": null,
      "outputs": [
        {
          "output_type": "stream",
          "name": "stdout",
          "text": [
            "Enter your fruit choice: lemon\n",
            "We do not have lemon\n"
          ]
        }
      ]
    },
    {
      "cell_type": "markdown",
      "source": [
        "The user is prompted to enter a number using the input() function, and the input is converted to an integer using int(). We first check if the entered number is in the numbers list using an if statement. If the number is in the list, we further check if it's even or odd using another if-else statement nested inside the first one. Depending on the result, it prints a message indicating whether the number is even or odd and whether it's in the list or not."
      ],
      "metadata": {
        "id": "JjCxd7T90SCg"
      }
    },
    {
      "cell_type": "code",
      "source": [
        "numbers = [1, 2, 3, 4, 5]\n",
        "num = int(input(\"Enter a number \"))\n",
        "\n",
        "if num in numbers:\n",
        "  if num % 2:\n",
        "    print(\"is odd\")\n",
        "  else:\n",
        "    print(\"is even\")\n",
        "else:\n",
        "  print(\"this number is not in the list\")"
      ],
      "metadata": {
        "colab": {
          "base_uri": "https://localhost:8080/"
        },
        "id": "gfVzXO2SLTqH",
        "outputId": "779e2a60-0ddc-44cd-e882-0e3962149de6"
      },
      "execution_count": null,
      "outputs": [
        {
          "output_type": "stream",
          "name": "stdout",
          "text": [
            "Enter a number 6\n",
            "this number is not in the list\n"
          ]
        }
      ]
    },
    {
      "cell_type": "code",
      "source": [
        "numbers = [1,2,3,4,5]\n",
        "\n",
        "user_number = int(input(\"Please enter a number: \"))\n",
        "\n",
        "if user_number in numbers:\n",
        "  if user_number %2 == 0:\n",
        "    print('Your even number is on the list')\n",
        "  else:\n",
        "    print('Your odd number is on the list')\n",
        "else:\n",
        "  print('Your number is not on the list')"
      ],
      "metadata": {
        "colab": {
          "base_uri": "https://localhost:8080/"
        },
        "id": "WZAlF3O1LtxQ",
        "outputId": "51aaae7a-3b89-4286-b88f-a5390d082cbe"
      },
      "execution_count": null,
      "outputs": [
        {
          "output_type": "stream",
          "name": "stdout",
          "text": [
            "Please enter a number: 5\n",
            "Your odd number is on the list\n"
          ]
        }
      ]
    },
    {
      "cell_type": "code",
      "source": [
        "numbers = [1, 2, 3, 4, 5]\n",
        "check = int(input(\"Please enter your number: \"))\n",
        "\n",
        "if check in numbers:\n",
        "    print(f'{check} exists in the list')\n",
        "    if check % 2 == 0:\n",
        "     print(f'{check} is even')\n",
        "    else:\n",
        "      print(f'{check} is odd')\n",
        "else:\n",
        "    print(f\"{check} does not exist in the list\")"
      ],
      "metadata": {
        "colab": {
          "base_uri": "https://localhost:8080/"
        },
        "id": "4YglWu7PL0TV",
        "outputId": "e56fbd8d-5d31-446e-dd2b-e99999887a69"
      },
      "execution_count": null,
      "outputs": [
        {
          "output_type": "stream",
          "name": "stdout",
          "text": [
            "Please enter your number: 1\n",
            "1 exists in the list\n",
            "1 is odd\n"
          ]
        }
      ]
    },
    {
      "cell_type": "code",
      "source": [
        "nrs = [1, 2, 3, 4, 5]\n",
        "nr = int(input(\"Enter an nr: \"))\n",
        "\n",
        "if nr in nrs:\n",
        "  if nr % 2 == 0:\n",
        "    print(f'The nr {nr} is even')\n",
        "  else:\n",
        "    print (f'The nr {nr} is odd')\n",
        "else:\n",
        "  print(\"not on list\")"
      ],
      "metadata": {
        "colab": {
          "base_uri": "https://localhost:8080/"
        },
        "id": "ZUOQbFROL7PR",
        "outputId": "a5ba83d8-3423-4f42-9983-5387b96dea8d"
      },
      "execution_count": null,
      "outputs": [
        {
          "output_type": "stream",
          "name": "stdout",
          "text": [
            "Enter an nr: 2\n",
            "The nr 2 is even\n"
          ]
        }
      ]
    },
    {
      "cell_type": "code",
      "source": [
        "numbers = [1, 2, 3, 4, 5]\n",
        "u_input = int(input(\"Enter a number: \"))\n",
        "\n",
        "if u_input in numbers:\n",
        "  print(\"Yes, it is in the list.\")\n",
        "  if u_input % 2 == 0:\n",
        "    print(\"Your number is even.\")\n",
        "  else:\n",
        "    print(\"Your number is odd.\")\n",
        "else:\n",
        "  print(\"No, it's not in the list.\")"
      ],
      "metadata": {
        "colab": {
          "base_uri": "https://localhost:8080/"
        },
        "id": "5_ns_PMNMCJB",
        "outputId": "16041076-9847-49ae-e106-b34b755cde1b"
      },
      "execution_count": null,
      "outputs": [
        {
          "output_type": "stream",
          "name": "stdout",
          "text": [
            "Enter a number: 5\n",
            "Yes, it is in the list.\n",
            "Your number is odd.\n"
          ]
        }
      ]
    },
    {
      "cell_type": "code",
      "source": [
        "your_number = int(input('Please write a whole number: '))\n",
        "\n",
        "if your_number in numbers:\n",
        "  if (your_number % 2 == 0):\n",
        "    print(f'{your_number} is in the list and it is an even number')\n",
        "  else:\n",
        "    print(f'{your_number} is in the list and it is an odd number')\n",
        "else:\n",
        "  print(f'{your_number} is not in the list')"
      ],
      "metadata": {
        "colab": {
          "base_uri": "https://localhost:8080/"
        },
        "id": "P1mVouLZMIka",
        "outputId": "13345941-3625-4c46-cb97-83e1125c0887"
      },
      "execution_count": null,
      "outputs": [
        {
          "output_type": "stream",
          "name": "stdout",
          "text": [
            "Please write a whole number: 4\n",
            "4 is in the list and it is an even number\n"
          ]
        }
      ]
    },
    {
      "cell_type": "code",
      "source": [
        "numbers = [1, 2, 3, 4, 5]\n",
        "user_input = int(input(\"Please enter a number \"))\n",
        "\n",
        "if user_input in numbers:\n",
        "    if user_input % 2 == 0:\n",
        "        print(\"The number you entered is in the list and is even.\")\n",
        "    else:\n",
        "        print(\"The number you entered is in the list and is odd.\")\n",
        "else:\n",
        "    print(\"The number you entered is not in the list.\")"
      ],
      "metadata": {
        "colab": {
          "base_uri": "https://localhost:8080/"
        },
        "id": "w9qInl4yMOoS",
        "outputId": "bc86426a-e06a-414a-ab26-bec5db4df6b3"
      },
      "execution_count": null,
      "outputs": [
        {
          "output_type": "stream",
          "name": "stdout",
          "text": [
            "Please enter a number 5\n",
            "The number you entered is in the list and is odd.\n"
          ]
        }
      ]
    },
    {
      "cell_type": "code",
      "source": [
        "numbers = [1, 2, 3, 4, 5]\n",
        "\n",
        "number = input(\"Enter a number: \")\n",
        "number = int(number)\n",
        "\n",
        "if number in numbers:\n",
        "    if number % 2 == 0:\n",
        "        print(f'The number {number} is on the list and the number is even!')\n",
        "    else:\n",
        "        print(f'The number {number} is on the list and the number is odd!')\n",
        "else:\n",
        "    print(\"The number is not in the list!\")"
      ],
      "metadata": {
        "colab": {
          "base_uri": "https://localhost:8080/"
        },
        "id": "9U73jbfWMU2I",
        "outputId": "6967c575-c576-49fd-aa07-43bb74341419"
      },
      "execution_count": null,
      "outputs": [
        {
          "output_type": "stream",
          "name": "stdout",
          "text": [
            "Enter a number: 5\n",
            "The number 5 is on the list and the number is odd!\n"
          ]
        }
      ]
    },
    {
      "cell_type": "code",
      "source": [
        "# Roberta example\n",
        "numbers = [1, 2, 3, 4, 5]\n",
        "user_number = int(input(\"Please enter a number: \"))\n",
        "\n",
        "if user_number in numbers:\n",
        "  if user_number %2 == 0:\n",
        "    print('Your even number is on the list')\n",
        "  else:\n",
        "    print('Your odd number is on the list')\n",
        "else:\n",
        "  print('Your number is not on the list')"
      ],
      "metadata": {
        "colab": {
          "base_uri": "https://localhost:8080/"
        },
        "id": "pUVn1T1ANGuK",
        "outputId": "11b9c667-32ed-49ce-c7aa-89acee233f75"
      },
      "execution_count": null,
      "outputs": [
        {
          "output_type": "stream",
          "name": "stdout",
          "text": [
            "Please enter a number: 4\n",
            "Your even number is on the list\n"
          ]
        }
      ]
    },
    {
      "cell_type": "code",
      "source": [
        "# Roberta example\n",
        "user_number = int(input(\"Please enter a number: \"))\n",
        "\n",
        "if user_number in numbers:\n",
        "  if user_number %2 == 0:\n",
        "    print('Your even number is on the list')\n",
        "  else:\n",
        "    print('Your odd number is on the list')\n",
        "else:\n",
        "  print('Your number is not on the list')"
      ],
      "metadata": {
        "colab": {
          "base_uri": "https://localhost:8080/"
        },
        "id": "G5Aj5WRvNZX4",
        "outputId": "8e93f7ef-d6fc-4132-a0b6-6d21afcb3bc0"
      },
      "execution_count": null,
      "outputs": [
        {
          "output_type": "stream",
          "name": "stdout",
          "text": [
            "Please enter a number: 1\n",
            "Your odd number is on the list\n"
          ]
        }
      ]
    },
    {
      "cell_type": "code",
      "source": [
        "# APPEND Adds an element at the end of list\n",
        "\n",
        "items = ['apple', 'kiwi', 'orange']\n",
        "print(f'original items {items}')\n",
        "\n",
        "my_value = 'banana'\n",
        "items.append(my_value)\n",
        "print(f'changed items {items}')"
      ],
      "metadata": {
        "colab": {
          "base_uri": "https://localhost:8080/"
        },
        "id": "PkSFA946NZPh",
        "outputId": "f559b801-34aa-4c23-8eac-702f8ef02fb0"
      },
      "execution_count": null,
      "outputs": [
        {
          "output_type": "stream",
          "name": "stdout",
          "text": [
            "original items ['apple', 'kiwi', 'orange']\n",
            "changed items ['apple', 'kiwi', 'orange', 'banana']\n"
          ]
        }
      ]
    },
    {
      "cell_type": "code",
      "source": [
        "#COPY Returns a copy of thr list\n",
        "original_list = [1, 2, 3, 4, 5]\n",
        "copied_list = original_list.copy()\n",
        "\n",
        "original_list.append(6)\n",
        "\n",
        "print(original_list)\n",
        "print(copied_list)"
      ],
      "metadata": {
        "colab": {
          "base_uri": "https://localhost:8080/"
        },
        "id": "e0k-628D8Cn3",
        "outputId": "ff32c326-f196-499c-d730-de86887860d6"
      },
      "execution_count": null,
      "outputs": [
        {
          "output_type": "stream",
          "name": "stdout",
          "text": [
            "[1, 2, 3, 4, 5, 6]\n",
            "[1, 2, 3, 4, 5]\n"
          ]
        }
      ]
    },
    {
      "cell_type": "code",
      "source": [
        "# Roberta example\n",
        "# COUNT method Returns the number of elements with the specified value\n",
        "\n",
        "numbers = [1,2,7,6,5,5]\n",
        "\n",
        "target_number = 5\n",
        "count = numbers.count(target_number)\n",
        "print(f'The number {target_number} appears {count} times in the list')"
      ],
      "metadata": {
        "colab": {
          "base_uri": "https://localhost:8080/"
        },
        "id": "cT4SSvx8N2kl",
        "outputId": "e63b774d-e804-492b-ec0d-6ea800813eba"
      },
      "execution_count": null,
      "outputs": [
        {
          "output_type": "stream",
          "name": "stdout",
          "text": [
            "The number 5 appears 2 times in the list\n"
          ]
        }
      ]
    },
    {
      "cell_type": "code",
      "source": [
        "numbers=[1,2,3,4,5,5,5,6]\n",
        "numbers.count(6)\n",
        "\n",
        "#it is not about being shorter, it is about how you program - for ex,\n",
        "#if you need to count multiples times in what follows,\n",
        "#it is easier to program target_number in the beginning, and then call for it.\n",
        "#That way, if you need to change it, you will only need to change it once\n"
      ],
      "metadata": {
        "colab": {
          "base_uri": "https://localhost:8080/"
        },
        "id": "ZaKWq-MA_KUK",
        "outputId": "12ec5d40-0aaa-4f5d-852f-dcb6aa8b7188"
      },
      "execution_count": null,
      "outputs": [
        {
          "output_type": "execute_result",
          "data": {
            "text/plain": [
              "1"
            ]
          },
          "metadata": {},
          "execution_count": 18
        }
      ]
    },
    {
      "cell_type": "code",
      "source": [
        "#Eve example\n",
        "my_list = [1, 2, 3, 2, 1, 4, 2]\n",
        "count = my_list.count(2)\n",
        "print(count)"
      ],
      "metadata": {
        "colab": {
          "base_uri": "https://localhost:8080/"
        },
        "id": "zWG8Idz-GLuI",
        "outputId": "0272eaf9-54b3-4755-ba44-a4eb8739a52d"
      },
      "execution_count": null,
      "outputs": [
        {
          "output_type": "stream",
          "name": "stdout",
          "text": [
            "3\n"
          ]
        }
      ]
    },
    {
      "cell_type": "code",
      "source": [
        "#Triin example\n",
        "if count > 1:\n",
        "  print(f\"The number {target_number} appears {count} times in the list.\")\n",
        "else:\n",
        "  print(f\"The number {target_number} appears {count} time in the list.\")\n"
      ],
      "metadata": {
        "colab": {
          "base_uri": "https://localhost:8080/"
        },
        "id": "ZAz8HrGHOD8B",
        "outputId": "a67ae1b6-a284-4afc-e9f5-d4b22fc9d7bc"
      },
      "execution_count": null,
      "outputs": [
        {
          "output_type": "stream",
          "name": "stdout",
          "text": [
            "The number 5 appears 2 times in the list.\n"
          ]
        }
      ]
    },
    {
      "cell_type": "code",
      "source": [
        "#Maris\n",
        "# count\n",
        "\n",
        "numbers = [1, 2, 3, 8, 9, 9]\n",
        "\n",
        "target_number = 9\n",
        "count = numbers.count(target_number)\n",
        "if count <= 1:\n",
        "    print(f'The number {target_number} appears once in the list')\n",
        "else:\n",
        "    print(f'The number {target_number} appears {count} times in the list')"
      ],
      "metadata": {
        "colab": {
          "base_uri": "https://localhost:8080/"
        },
        "id": "75FZcow8Glm8",
        "outputId": "0535bd57-94ec-40a2-ce2e-bb8516df1f86"
      },
      "execution_count": null,
      "outputs": [
        {
          "output_type": "stream",
          "name": "stdout",
          "text": [
            "The number 9 appears 2 times in the list\n"
          ]
        }
      ]
    },
    {
      "cell_type": "code",
      "source": [],
      "metadata": {
        "id": "FgDjbIHcP8Bw"
      },
      "execution_count": null,
      "outputs": []
    },
    {
      "cell_type": "code",
      "source": [
        "# Roberta exapmle\n",
        "# INDEX Returns the index of the first element with the specified value\n",
        "\n",
        "fruits = ['apple', 'banana', 'orange']\n",
        "fruits_index = fruits.index('banana')\n",
        "print(f'Index of \"banana\" is: {fruits_index}')"
      ],
      "metadata": {
        "colab": {
          "base_uri": "https://localhost:8080/"
        },
        "id": "E9PAFEJGPGke",
        "outputId": "18eb71ef-d277-49db-de92-2d1ebff51fb7"
      },
      "execution_count": null,
      "outputs": [
        {
          "output_type": "stream",
          "name": "stdout",
          "text": [
            "Index of \"banana\" is: 1\n"
          ]
        }
      ]
    },
    {
      "cell_type": "code",
      "source": [
        "#INSERT Adds an element at the specified position\n",
        "numbers = [1, 2, 3, 4, 5]\n",
        "numbers.insert(2,10)\n",
        "print(numbers)\n",
        "\n",
        "#inserted number 10 in the position No 2"
      ],
      "metadata": {
        "colab": {
          "base_uri": "https://localhost:8080/"
        },
        "id": "coIXC9LVItUK",
        "outputId": "141d3a92-8f9d-4933-ddba-54a6ffe6f307"
      },
      "execution_count": null,
      "outputs": [
        {
          "output_type": "stream",
          "name": "stdout",
          "text": [
            "[1, 2, 10, 3, 4, 5]\n"
          ]
        }
      ]
    },
    {
      "cell_type": "code",
      "source": [
        "#POP Removes the element at the specified position\n",
        "numbers = [1, 2, 3 ,4, 5]\n",
        "numbers.pop(2)  #removes number from position nr 2\n",
        "print(numbers)"
      ],
      "metadata": {
        "colab": {
          "base_uri": "https://localhost:8080/"
        },
        "id": "Tjs-Bf-cJ5B4",
        "outputId": "33347bc0-3040-4c6c-94ae-8cb10bca87e8"
      },
      "execution_count": null,
      "outputs": [
        {
          "output_type": "stream",
          "name": "stdout",
          "text": [
            "[1, 2, 4, 5]\n"
          ]
        }
      ]
    },
    {
      "cell_type": "code",
      "source": [
        "#MMari example\n",
        "numbers = [1, 2, 10, 3, 4, 5]\n",
        "popped_element = numbers.pop(2)\n",
        "print(popped_element)\n",
        "print(numbers)"
      ],
      "metadata": {
        "colab": {
          "base_uri": "https://localhost:8080/"
        },
        "id": "3ENePqkiK-Dc",
        "outputId": "48f1f67e-c784-46c6-e8c2-d5de6bf7a83c"
      },
      "execution_count": null,
      "outputs": [
        {
          "output_type": "stream",
          "name": "stdout",
          "text": [
            "10\n",
            "[1, 2, 3, 4, 5]\n"
          ]
        }
      ]
    },
    {
      "cell_type": "code",
      "source": [
        "#sort()\tSorts the list\n",
        "numbers = [6, 9, 10, 3, 5]\n",
        "numbers.sort()\n",
        "print(numbers)"
      ],
      "metadata": {
        "colab": {
          "base_uri": "https://localhost:8080/"
        },
        "id": "NtComoRcLjME",
        "outputId": "d3f6f3b3-c9f0-4079-aed7-d384b8b1e88f"
      },
      "execution_count": null,
      "outputs": [
        {
          "output_type": "stream",
          "name": "stdout",
          "text": [
            "[3, 5, 6, 9, 10]\n"
          ]
        }
      ]
    },
    {
      "cell_type": "code",
      "source": [
        "#reverse()\tReverses the order of the list\n",
        "numbers = [6, 9, 10, 3, 5]\n",
        "numbers.reverse()\n",
        "print(numbers)"
      ],
      "metadata": {
        "colab": {
          "base_uri": "https://localhost:8080/"
        },
        "id": "0ujWKdHNMeXH",
        "outputId": "e99af12f-9b4c-488a-9171-4af45c23de93"
      },
      "execution_count": null,
      "outputs": [
        {
          "output_type": "stream",
          "name": "stdout",
          "text": [
            "[5, 3, 10, 9, 6]\n"
          ]
        }
      ]
    },
    {
      "cell_type": "code",
      "source": [
        "numbers = [3, 1, 2, 7, 4, 10, 2]\n",
        "numbers.sort()\n",
        "print(numbers)\n",
        "numbers.reverse()\n",
        "print(numbers)"
      ],
      "metadata": {
        "colab": {
          "base_uri": "https://localhost:8080/"
        },
        "id": "tq1yEVtmM1Af",
        "outputId": "c107a744-13cf-4800-cfd4-ede46ed32157"
      },
      "execution_count": null,
      "outputs": [
        {
          "output_type": "stream",
          "name": "stdout",
          "text": [
            "[1, 2, 2, 3, 4, 7, 10]\n",
            "[10, 7, 4, 3, 2, 2, 1]\n"
          ]
        }
      ]
    },
    {
      "cell_type": "code",
      "source": [
        "#Elchin\n",
        "my_list = [4, 8, 1, 5, 9]\n",
        "my_list.sort(reverse = True)\n",
        "print(my_list)"
      ],
      "metadata": {
        "colab": {
          "base_uri": "https://localhost:8080/"
        },
        "id": "jspwXVI0NNl4",
        "outputId": "98ddcd20-5fa0-4eb1-af9e-a9758adc662a"
      },
      "execution_count": null,
      "outputs": [
        {
          "output_type": "stream",
          "name": "stdout",
          "text": [
            "[9, 8, 5, 4, 1]\n"
          ]
        }
      ]
    },
    {
      "cell_type": "code",
      "source": [],
      "metadata": {
        "id": "eeirbZVmNrpS"
      },
      "execution_count": null,
      "outputs": []
    },
    {
      "cell_type": "markdown",
      "source": [
        "Elchin — 04/20/2024 10:58 AM\n",
        "But in brief:\n",
        "Formally\n",
        "In OOP (Object-Oriented programming) we define classes and create objects (instances) from those classes.\n",
        "Every procedure defined as a function of that class is called a method\n",
        "methods can belong to the whole class (static method) or its instance (instance method)\n",
        "In simple words\n",
        "In real life we have DNA of a cat (class) and every time when a cat is born (object or instance) the cat DNA is implemented\n",
        "Cat can breath, run, eat, sleep, etc (there are functions of a cat, which in OOP we call methods), thus abilities of a cat\n",
        "All cats can say \"meow\", this this is a class static method, but only your cat can, for example, type on the keyboard, then this is an instance method"
      ],
      "metadata": {
        "id": "xL2g9qkIN2-l"
      }
    },
    {
      "cell_type": "markdown",
      "source": [
        "In simple words\n",
        "\n",
        "Cat washes herself: this is an implementation of OOP approach, cat has an ability (method) to wash herself\n",
        "You wash your cat: this is an implementation of functional approach. You are the function and wash your cat, cat does not wash herself.\n",
        "as simple as it is"
      ],
      "metadata": {
        "id": "YXWS4QyyOSJA"
      }
    },
    {
      "cell_type": "markdown",
      "source": [
        "Create a list of 5 number elements\n",
        "\n",
        "Calculate maximum value of the numbers\n",
        "\n",
        "Calculate minimum value of the numbers\n",
        "\n",
        "Calculate average value of numbers\n",
        "\n",
        "Check if the average value of the list if higher than 3\n",
        "\n",
        "If the average is greater than 3, print \"Average is greater than 3\", otherwise print \"Average is not greater than 3\".\n",
        "\n",
        "Sort the list\n",
        "\n",
        "Remove first number of the list\n",
        "\n",
        "Add your name to the list\n",
        "\n",
        "Calculate at what index is your name"
      ],
      "metadata": {
        "id": "bdtneqbYPzed"
      }
    },
    {
      "cell_type": "markdown",
      "source": [],
      "metadata": {
        "id": "1PUjdqxGN8lv"
      }
    },
    {
      "cell_type": "code",
      "source": [
        "#Lasma example\n",
        "#Create a list of 5 numbers\n",
        "numbers = [1,5,6,5,8]\n",
        "\n",
        "#Calculate maximum value of n\n",
        "numbers = [1, 5, 6, 5, 8]\n",
        "max_value = max(numbers)\n",
        "print(max_value)\n",
        "\n",
        "#Calculate minimum value\n",
        "numbers = [1, 5, 6, 5, 8]\n",
        "min_value = min(numbers)\n",
        "print(min_value)\n",
        "\n",
        "#Calculate average value\n",
        "numbers = [1, 5, 6, 5, 8]\n",
        "average_value = sum(numbers) / len(numbers)\n",
        "print(average_value)\n",
        "\n",
        "# Check if the average value of the list is  higher\n",
        "numbers = [1, 5, 6, 5, 8]\n",
        "threshold = 4.5  # Example threshold value\n",
        "\n",
        "average_value = sum(numbers) / len(numbers)\n",
        "\n",
        "if average_value > threshold:\n",
        "    print(\"The average value is higher than the threshold.\")\n",
        "else:\n",
        "    print(\"The average value is not higher than the threshold.\")\n",
        "\n",
        "#if the average is greater than 3, print \"Average is greater\", otherwise \"Average is not greater\"\n",
        "numbers = [1, 5, 6, 5, 8]\n",
        "average_value = sum(numbers) / len(numbers)\n",
        "if average_value > 3:\n",
        "    print(\"Average is greater\")\n",
        "else:\n",
        "    print(\"Average is not greater\")\n",
        "\n",
        "#Sort the list\n",
        "numbers = [1, 5, 6, 5, 8]\n",
        "sorted_numbers = sorted(numbers)\n",
        "print(sorted_numbers)\n",
        "\n",
        "#Remove first number of the list\n",
        "numbers = [1, 5, 6, 5, 8]\n",
        "numbers.pop(0)\n",
        "print(numbers)\n",
        "\n",
        "#Add your Name to the list°\n",
        "names = ['Liene', 'Ilze', 'Janis']\n",
        "names.append('Lasma')\n",
        "print(names)\n",
        "\n",
        "#Calculate at what index is your name\n",
        "names = ['Liene', 'Ilze', 'Janis', 'Lasma']\n",
        "index_of_my_name = names.index('Lasma')\n",
        "print(\"Index of 'Lasma' is:\", index_of_my_name)"
      ],
      "metadata": {
        "colab": {
          "base_uri": "https://localhost:8080/"
        },
        "id": "z88AvnZ8P9xe",
        "outputId": "8837f51d-b43a-44a8-c746-7660efdc47c1"
      },
      "execution_count": null,
      "outputs": [
        {
          "output_type": "stream",
          "name": "stdout",
          "text": [
            "8\n",
            "1\n",
            "5.0\n",
            "The average value is higher than the threshold.\n",
            "Average is greater\n",
            "[1, 5, 5, 6, 8]\n",
            "[5, 6, 5, 8]\n",
            "['Liene', 'Ilze', 'Janis', 'Lasma']\n",
            "Index of 'Lasma' is: 3\n"
          ]
        }
      ]
    },
    {
      "cell_type": "code",
      "source": [
        "#Helina\n",
        "# create a list of 5 elements\n",
        "\n",
        "numbers = [50, 10, 30, 20, 40]\n",
        "print(numbers)\n",
        "\n",
        "#calculate the maximum value of the numbers\n",
        "max_value = max(numbers)\n",
        "print(f'The maximum value of the numbers is {max_value}.')\n",
        "\n",
        "# calculate the minimum value of the numbers\n",
        "min_value = min(numbers)\n",
        "print(f'The minimum value of the numbers is {min_value}.')\n",
        "\n",
        "#calculate average value of numbers\n",
        "total_sum = sum(numbers)\n",
        "count = len(numbers)\n",
        "average = total_sum / count\n",
        "print(f'The average value of numbers is {average}.')\n",
        "\n",
        "\n",
        "# check if the average is higher than 3\n",
        "\n",
        "# if the average is greater than 3 print \"Average is greater than 3.\", else print \"Average is not greater than 3.\"\n",
        "if average > 3:\n",
        "    print(\"Average is greater than 3.\")\n",
        "else:\n",
        "    print(\"Average is not greater than 3.\")\n",
        "\n",
        "#sort the list\n",
        "numbers.sort()\n",
        "print(numbers)\n",
        "\n",
        "#remove the first number of the list\n",
        "numbers.pop(0)\n",
        "print(numbers)\n",
        "\n",
        "#add your name to the list\n",
        "numbers.append('Helina')\n",
        "print(numbers)\n",
        "\n",
        "#calculate at what index is your name\n",
        "index = numbers.index('Helina')\n",
        "print(f'Your name is index {index}')"
      ],
      "metadata": {
        "colab": {
          "base_uri": "https://localhost:8080/"
        },
        "id": "h_2-fx5oQSxC",
        "outputId": "7591ba7a-0c58-49c1-f854-e50c721513e6"
      },
      "execution_count": null,
      "outputs": [
        {
          "output_type": "stream",
          "name": "stdout",
          "text": [
            "[50, 10, 30, 20, 40]\n",
            "The maximum value of the numbers is 50.\n",
            "The minimum value of the numbers is 10.\n",
            "The average value of numbers is 30.0.\n",
            "Average is greater than 3.\n",
            "[10, 20, 30, 40, 50]\n",
            "[20, 30, 40, 50]\n",
            "[20, 30, 40, 50, 'Helina']\n",
            "Your name is index 4\n"
          ]
        }
      ]
    },
    {
      "cell_type": "code",
      "source": [
        "#MMari example\n",
        "# Create a list of 5 number elements\n",
        "numbers = [1, 2, 3, 4, 5]\n",
        "\n",
        "#Calculate maximum value of the numbers\n",
        "max_value = max(numbers)\n",
        "print(f'The maximum value is: {max_value}')\n",
        "\n",
        "#Calculate minimum value of the numbers\n",
        "min_value = min(numbers)\n",
        "print(f'The minimum value is: {min_value}')\n",
        "\n",
        "#Calculate average value of numbers\n",
        "total = sum(numbers)\n",
        "count = len(numbers)\n",
        "average = total / count\n",
        "print(\"The average value is:\", average)\n",
        "\n",
        "#Check if the average value of the list if higher than 3 and print\n",
        "if average > 3:\n",
        "    print(\"The average value is greater than 3.\")\n",
        "else:\n",
        "    print(\"The average value is not greater than 3.\")\n",
        "\n",
        "#Sort the list\n",
        "numbers.sort()\n",
        "print(numbers)\n",
        "\n",
        "#Remove first number of the list\n",
        "popped_element = numbers.pop(0)\n",
        "print(popped_element)\n",
        "print(numbers)\n",
        "\n",
        "#Add your name to the list\n",
        "items.append('Mari')\n",
        "\n",
        "#Calculate at what index is your name\n",
        "name_to_find = \"Mari\"\n",
        "if name_to_find in numbers:\n",
        "    index = numbers.index(name_to_find)\n",
        "    print(\"Your name is found at index:\", index)\n",
        "else:\n",
        "    print(\"Your name is not in the list.\")"
      ],
      "metadata": {
        "id": "SxJCOg0zO0A8"
      },
      "execution_count": null,
      "outputs": []
    },
    {
      "cell_type": "code",
      "source": [
        "#Roberta example\n",
        "# Create a list of 5 number elements\n",
        "numbers = [1, 6, 13, 2, 5]\n",
        "\n",
        "# # Calculate maximum value of the numbers\n",
        "max_value = max(numbers)\n",
        "print(f\"The maximum value in the list is: {max_value}\")\n",
        "\n",
        "# Calculate minimum value of the numbers\n",
        "min_value = min(numbers)\n",
        "print(f\"The minimum value in the list is: {min_value}\")\n",
        "\n",
        "# Calculate average value of numbers\n",
        "average_value = sum(numbers) / len(numbers)\n",
        "print(f\"The average value in the list is: {average_value}\")\n",
        "\n",
        "# Check if the average value of the list if higher than 3 If the average is greater than 3, print \"Average is greater than 3\", otherwise print \"Average is not greater than 3\".\n",
        "if average_value > 3:\n",
        "  print(\"The average value of numbers in the list is higher than 3\")\n",
        "else:\n",
        "  print(\"The average value of numbers on the list is lower than 3\")\n",
        "\n",
        "# Sort the list\n",
        "\n",
        "numbers.sort()\n",
        "print(numbers)\n",
        "\n",
        "# Remove first number of the list\n",
        "\n",
        "numbers.pop(0)\n",
        "print(numbers)\n",
        "\n",
        "# Add your name to the list\n",
        "numbers.append(\"Elina\")\n",
        "print(numbers)\n",
        "\n",
        "# Calculate at what index is your name\n",
        "numbers.index(\"Elina\")"
      ],
      "metadata": {
        "colab": {
          "base_uri": "https://localhost:8080/"
        },
        "id": "o2PbqzxZQtsz",
        "outputId": "8b02168e-8ffb-4660-d0b0-4965eeb1f7f7"
      },
      "execution_count": null,
      "outputs": [
        {
          "output_type": "stream",
          "name": "stdout",
          "text": [
            "The maximum value in the list is: 13\n",
            "The minimum value in the list is: 1\n",
            "The average value in the list is: 5.4\n",
            "The average value of numbers in the list is higher than 3\n",
            "[1, 2, 5, 6, 13]\n",
            "[2, 5, 6, 13]\n",
            "[2, 5, 6, 13, 'Elina']\n"
          ]
        },
        {
          "output_type": "execute_result",
          "data": {
            "text/plain": [
              "4"
            ]
          },
          "metadata": {},
          "execution_count": 34
        }
      ]
    },
    {
      "cell_type": "code",
      "source": [
        "#Ellen example\n",
        "# Create a list of 5 number elements\n",
        "numbers = [1,8,3,4,5]\n",
        "\n",
        "## Calculate maximum value of the numbers\n",
        "max_value = max(numbers)\n",
        "print(max_value)\n",
        "## Calculate minimum value of the numbers\n",
        "mix_value = min(numbers)\n",
        "print(mix_value)\n",
        "\n",
        "## Calculate average value of numbers\n",
        "average_value = sum(numbers) / len(numbers)\n",
        "print(average_value)\n",
        "\n",
        "\n",
        "## Check if the average value of the list if higher than 3\n",
        "## If the average is greater than 3, print \"Average is greater than 3\", otherwise print \"Average is not greater than 3\".\n",
        "if average_value > 3:\n",
        "  print('Avarage of list numbers is greater than 3')\n",
        "else:\n",
        "  print('Average is not greater than 3')\n",
        "\n",
        "\n",
        "#Sort the list\n",
        "numbers.sort()\n",
        "print(numbers)\n",
        "\n",
        "## Remove first number of the list\n",
        "numbers.pop(0)\n",
        "print(numbers)\n",
        "# # Add your name to the list\n",
        "numbers.insert(2, \"Ellen\")\n",
        "print(numbers)\n",
        "## Calculate at what index is your name\n",
        "name_index = numbers.index(\"Ellen\")\n",
        "print(f'Index of \"ELLEN\" is: {name_index}')"
      ],
      "metadata": {
        "colab": {
          "base_uri": "https://localhost:8080/"
        },
        "id": "Uu4h71IhVd0E",
        "outputId": "938e4a05-20dd-4d30-96fb-e10ac3767fd8"
      },
      "execution_count": null,
      "outputs": [
        {
          "output_type": "stream",
          "name": "stdout",
          "text": [
            "8\n",
            "1\n",
            "4.2\n",
            "Avarage of list numbers is greater than 3\n",
            "[1, 3, 4, 5, 8]\n",
            "[3, 4, 5, 8]\n",
            "[3, 4, 'Ellen', 5, 8]\n",
            "Index of \"ELLEN\" is: 2\n"
          ]
        }
      ]
    },
    {
      "cell_type": "code",
      "source": [
        "list(range(7))"
      ],
      "metadata": {
        "colab": {
          "base_uri": "https://localhost:8080/"
        },
        "id": "ufNK_dmpX26E",
        "outputId": "32c52f51-ceb3-4f40-d87f-47f1d8e3f287"
      },
      "execution_count": null,
      "outputs": [
        {
          "output_type": "execute_result",
          "data": {
            "text/plain": [
              "[0, 1, 2, 3, 4, 5, 6]"
            ]
          },
          "metadata": {},
          "execution_count": 37
        }
      ]
    },
    {
      "cell_type": "code",
      "source": [
        "numbers_with_range = range(1,7)\n",
        "for i in numbers_with_range:\n",
        "  print(i)"
      ],
      "metadata": {
        "colab": {
          "base_uri": "https://localhost:8080/"
        },
        "id": "0YdN5A3sYWZv",
        "outputId": "493cb5bd-f28b-4668-ac4a-795ac62770ce"
      },
      "execution_count": null,
      "outputs": [
        {
          "output_type": "stream",
          "name": "stdout",
          "text": [
            "1\n",
            "2\n",
            "3\n",
            "4\n",
            "5\n",
            "6\n"
          ]
        }
      ]
    },
    {
      "cell_type": "code",
      "source": [
        "friends = ['Anna', 'Peter', 'Erika', 'Roberta']\n",
        "for friend in friends:\n",
        "  print(f\"Hey hey {friend}!\")"
      ],
      "metadata": {
        "colab": {
          "base_uri": "https://localhost:8080/"
        },
        "id": "Lq0XJlhxRT4S",
        "outputId": "a2bf1a17-58e4-46cb-acb7-9d4a6bffe169"
      },
      "execution_count": null,
      "outputs": [
        {
          "output_type": "stream",
          "name": "stdout",
          "text": [
            "Hey hey Anna!\n",
            "Hey hey Peter!\n",
            "Hey hey Erika!\n",
            "Hey hey Roberta!\n"
          ]
        }
      ]
    },
    {
      "cell_type": "markdown",
      "source": [],
      "metadata": {
        "id": "5lKKy2yAbGqH"
      }
    },
    {
      "cell_type": "code",
      "source": [
        "for letter in \"I LOVE PYTHON\": #STRING ITERABLE OBJECT\n",
        "  print(letter)"
      ],
      "metadata": {
        "colab": {
          "base_uri": "https://localhost:8080/"
        },
        "id": "9VAyIMJ0RxAU",
        "outputId": "c0341c86-24ae-4bd6-8793-b8595879b0f2"
      },
      "execution_count": null,
      "outputs": [
        {
          "output_type": "stream",
          "name": "stdout",
          "text": [
            "I\n",
            " \n",
            "L\n",
            "O\n",
            "V\n",
            "E\n",
            " \n",
            "P\n",
            "Y\n",
            "T\n",
            "H\n",
            "O\n",
            "N\n"
          ]
        }
      ]
    },
    {
      "cell_type": "markdown",
      "source": [
        "Team work: Analyzing Numbers - Iterate through a list of 10 random numbers and determine whether each number is higher or lower than 5.\n",
        "\n",
        "Hints:\n",
        "Use a for loop to iterate through the list of numbers.\n",
        "Use if, elif, and else statements to check each number against 5.\n",
        "\n",
        "\n",
        "Example Output:\n",
        "3 is lower than 5\n",
        "\n",
        "8 is higher than 5\n",
        "\n",
        "1 is lower than 5\n",
        "\n",
        "6 is higher than 5 ......."
      ],
      "metadata": {
        "id": "-FeF-EX_bHzG"
      }
    }
  ]
}