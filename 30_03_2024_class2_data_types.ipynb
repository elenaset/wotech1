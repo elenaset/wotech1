{
  "nbformat": 4,
  "nbformat_minor": 0,
  "metadata": {
    "colab": {
      "provenance": [],
      "include_colab_link": true
    },
    "kernelspec": {
      "name": "python3",
      "display_name": "Python 3"
    },
    "language_info": {
      "name": "python"
    }
  },
  "cells": [
    {
      "cell_type": "markdown",
      "metadata": {
        "id": "view-in-github",
        "colab_type": "text"
      },
      "source": [
        "<a href=\"https://colab.research.google.com/github/elenaset/wotech1/blob/main/30_03_2024_class2_data_types.ipynb\" target=\"_parent\"><img src=\"https://colab.research.google.com/assets/colab-badge.svg\" alt=\"Open In Colab\"/></a>"
      ]
    },
    {
      "cell_type": "markdown",
      "source": [
        "Data types!"
      ],
      "metadata": {
        "id": "-ino8aLYZ_jD"
      }
    },
    {
      "cell_type": "code",
      "execution_count": null,
      "metadata": {
        "colab": {
          "base_uri": "https://localhost:8080/"
        },
        "id": "ehx47CpTS8CT",
        "outputId": "3443e8cc-6370-4d8f-a7fc-fe582c9df679"
      },
      "outputs": [
        {
          "output_type": "stream",
          "name": "stdout",
          "text": [
            "14\n",
            "<class 'int'>\n"
          ]
        }
      ],
      "source": [
        "# Data types!\n",
        "x = 14\n",
        "print(x)\n",
        "print(type(x))"
      ]
    },
    {
      "cell_type": "code",
      "source": [
        "x1 = -1\n",
        "print(type(x1))"
      ],
      "metadata": {
        "colab": {
          "base_uri": "https://localhost:8080/"
        },
        "id": "FQ1FT6kMapoO",
        "outputId": "f311df04-9a00-48f6-a526-418e84b6149c"
      },
      "execution_count": null,
      "outputs": [
        {
          "output_type": "stream",
          "name": "stdout",
          "text": [
            "<class 'int'>\n"
          ]
        }
      ]
    },
    {
      "cell_type": "code",
      "source": [
        "# Floats\n",
        "nearly_pi = 3.14\n",
        "print(nearly_pi)\n",
        "print(type(nearly_pi))"
      ],
      "metadata": {
        "colab": {
          "base_uri": "https://localhost:8080/"
        },
        "id": "bHEAfSv6bQxe",
        "outputId": "f70c79a7-e818-4d46-da77-f8677300955d"
      },
      "execution_count": null,
      "outputs": [
        {
          "output_type": "stream",
          "name": "stdout",
          "text": [
            "3.14\n",
            "<class 'float'>\n"
          ]
        }
      ]
    },
    {
      "cell_type": "code",
      "source": [
        "nearly_pi1 = 22/7\n",
        "print(nearly_pi1)\n",
        "print(type(nearly_pi1))"
      ],
      "metadata": {
        "colab": {
          "base_uri": "https://localhost:8080/"
        },
        "id": "9eyQOR_1blZC",
        "outputId": "20e483bd-b6c3-4076-a099-407475c7da84"
      },
      "execution_count": null,
      "outputs": [
        {
          "output_type": "stream",
          "name": "stdout",
          "text": [
            "3.142857142857143\n",
            "<class 'float'>\n"
          ]
        }
      ]
    },
    {
      "cell_type": "code",
      "source": [
        "# Rounding float\n",
        "rounded_nearly_pi1 = round(nearly_pi1, 2)\n",
        "print(rounded_nearly_pi1)\n",
        "print(type(rounded_nearly_pi1))"
      ],
      "metadata": {
        "colab": {
          "base_uri": "https://localhost:8080/"
        },
        "id": "bQ1CVmdlchYU",
        "outputId": "52df1231-76c5-4d91-801c-c27e1a8b9a35"
      },
      "execution_count": null,
      "outputs": [
        {
          "output_type": "stream",
          "name": "stdout",
          "text": [
            "3.14\n",
            "<class 'float'>\n"
          ]
        }
      ]
    },
    {
      "cell_type": "code",
      "source": [
        "type(round(nearly_pi1))  # default is 0\n",
        "type(round(nearly_pi1, 0))  # I actually entered zero\n"
      ],
      "metadata": {
        "colab": {
          "base_uri": "https://localhost:8080/"
        },
        "id": "iWwoDtb_dy_l",
        "outputId": "55a7d11c-e70c-4590-875b-87c54b01f361"
      },
      "execution_count": null,
      "outputs": [
        {
          "output_type": "execute_result",
          "data": {
            "text/plain": [
              "int"
            ]
          },
          "metadata": {},
          "execution_count": 15
        }
      ]
    },
    {
      "cell_type": "code",
      "source": [
        "# Booleans\n",
        "\n",
        "boolean1 = False\n",
        "\n",
        "print(boolean1)\n",
        "print(type(boolean1))"
      ],
      "metadata": {
        "colab": {
          "base_uri": "https://localhost:8080/"
        },
        "id": "NB5i1YeCfDUR",
        "outputId": "c3db197f-8727-4b4b-d0c7-318767bb6dbf"
      },
      "execution_count": null,
      "outputs": [
        {
          "output_type": "stream",
          "name": "stdout",
          "text": [
            "False\n",
            "<class 'bool'>\n"
          ]
        }
      ]
    },
    {
      "cell_type": "code",
      "source": [
        "boolean2 = (1 < 2)\n",
        "\n",
        "print(boolean2)\n",
        "print(type(boolean2))"
      ],
      "metadata": {
        "colab": {
          "base_uri": "https://localhost:8080/"
        },
        "id": "Qw2i39MIf4KN",
        "outputId": "2a88364a-afc1-469e-c675-c3bc44332026"
      },
      "execution_count": null,
      "outputs": [
        {
          "output_type": "stream",
          "name": "stdout",
          "text": [
            "True\n",
            "<class 'bool'>\n"
          ]
        }
      ]
    },
    {
      "cell_type": "code",
      "source": [
        "boolean3 = (5 < 3)\n",
        "print(boolean3)"
      ],
      "metadata": {
        "colab": {
          "base_uri": "https://localhost:8080/"
        },
        "id": "OANwDhV_gPI7",
        "outputId": "444c354b-c676-47aa-dde1-e932bba95e39"
      },
      "execution_count": null,
      "outputs": [
        {
          "output_type": "stream",
          "name": "stdout",
          "text": [
            "False\n"
          ]
        }
      ]
    },
    {
      "cell_type": "code",
      "source": [
        "boolean4 = not boolean3\n",
        "print(boolean4)"
      ],
      "metadata": {
        "colab": {
          "base_uri": "https://localhost:8080/"
        },
        "id": "7ic5VhUZga__",
        "outputId": "f07974ad-4a9f-46e5-e26e-61d678021495"
      },
      "execution_count": null,
      "outputs": [
        {
          "output_type": "stream",
          "name": "stdout",
          "text": [
            "True\n"
          ]
        }
      ]
    },
    {
      "cell_type": "code",
      "source": [
        "# TRUE == 1\n",
        "# FALSE == 0"
      ],
      "metadata": {
        "id": "VEFpYewFhb4S"
      },
      "execution_count": null,
      "outputs": []
    },
    {
      "cell_type": "code",
      "source": [
        "boolean5 = True + False + True + True + False\n",
        "print(boolean5)\n",
        "print(type(boolean5))"
      ],
      "metadata": {
        "colab": {
          "base_uri": "https://localhost:8080/"
        },
        "id": "KhFiiguygzOQ",
        "outputId": "8c71ef39-182b-429b-d58e-2163e274d1c5"
      },
      "execution_count": null,
      "outputs": [
        {
          "output_type": "stream",
          "name": "stdout",
          "text": [
            "3\n",
            "<class 'int'>\n"
          ]
        }
      ]
    },
    {
      "cell_type": "code",
      "source": [
        "string1 = \"Hello!\"\n",
        "print(string1)\n",
        "type(string1)"
      ],
      "metadata": {
        "colab": {
          "base_uri": "https://localhost:8080/"
        },
        "id": "I3QX8r9ag6QZ",
        "outputId": "e0354386-c079-4383-f0c6-7477031869f4"
      },
      "execution_count": null,
      "outputs": [
        {
          "output_type": "stream",
          "name": "stdout",
          "text": [
            "Hello!\n"
          ]
        },
        {
          "output_type": "execute_result",
          "data": {
            "text/plain": [
              "str"
            ]
          },
          "metadata": {},
          "execution_count": 36
        }
      ]
    },
    {
      "cell_type": "code",
      "source": [
        "len(string1)"
      ],
      "metadata": {
        "colab": {
          "base_uri": "https://localhost:8080/"
        },
        "id": "Ex7fhngDimM_",
        "outputId": "f43b5882-28a1-446d-d06f-1359bbcd1f63"
      },
      "execution_count": null,
      "outputs": [
        {
          "output_type": "execute_result",
          "data": {
            "text/plain": [
              "6"
            ]
          },
          "metadata": {},
          "execution_count": 37
        }
      ]
    },
    {
      "cell_type": "code",
      "source": [
        "nearly_pi_string = '3.14'\n",
        "type(nearly_pi_string)"
      ],
      "metadata": {
        "colab": {
          "base_uri": "https://localhost:8080/"
        },
        "id": "fAZurbh_ixws",
        "outputId": "9c5091f5-50db-48b4-a10a-9bc1b938c98b"
      },
      "execution_count": null,
      "outputs": [
        {
          "output_type": "execute_result",
          "data": {
            "text/plain": [
              "str"
            ]
          },
          "metadata": {},
          "execution_count": 38
        }
      ]
    },
    {
      "cell_type": "code",
      "source": [
        "nearly_pi_converted = float(nearly_pi_string)\n",
        "type(nearly_pi_converted)"
      ],
      "metadata": {
        "colab": {
          "base_uri": "https://localhost:8080/"
        },
        "id": "Kv91ub4gjCDT",
        "outputId": "b62e52b6-7af4-472c-cf7b-13350fe90c21"
      },
      "execution_count": null,
      "outputs": [
        {
          "output_type": "execute_result",
          "data": {
            "text/plain": [
              "float"
            ]
          },
          "metadata": {},
          "execution_count": 41
        }
      ]
    },
    {
      "cell_type": "code",
      "source": [
        "new_string = \"abc\" + \"def\"\n",
        "print(new_string)"
      ],
      "metadata": {
        "colab": {
          "base_uri": "https://localhost:8080/"
        },
        "id": "QsXXT79ijNsp",
        "outputId": "9ca37fc2-5f46-45d5-d8b9-1372f6b8d584"
      },
      "execution_count": null,
      "outputs": [
        {
          "output_type": "stream",
          "name": "stdout",
          "text": [
            "abcdef\n"
          ]
        }
      ]
    },
    {
      "cell_type": "markdown",
      "source": [
        "### Arithmetic calculations"
      ],
      "metadata": {
        "id": "eDp23HLqkVSa"
      }
    },
    {
      "cell_type": "code",
      "source": [
        "# Addition\n",
        "a = 5\n",
        "b = 3\n",
        "sum = a + b\n",
        "print(f'SUM: {sum}')"
      ],
      "metadata": {
        "colab": {
          "base_uri": "https://localhost:8080/"
        },
        "id": "XCA5s11ekUA9",
        "outputId": "9c6bbb48-f6cd-4f46-fe15-ceef7e75e9ee"
      },
      "execution_count": null,
      "outputs": [
        {
          "output_type": "stream",
          "name": "stdout",
          "text": [
            "SUM: 8\n"
          ]
        }
      ]
    },
    {
      "cell_type": "code",
      "source": [
        "#Addition\n",
        "a = 5\n",
        "b = 3\n",
        "sum  = a + b\n",
        "print(f'SUM: {sum}')"
      ],
      "metadata": {
        "colab": {
          "base_uri": "https://localhost:8080/"
        },
        "id": "RQjxho6UlM-G",
        "outputId": "e71e4660-e58a-4149-ba88-0ba38b0f5241"
      },
      "execution_count": null,
      "outputs": [
        {
          "output_type": "stream",
          "name": "stdout",
          "text": [
            "SUM: 8\n"
          ]
        }
      ]
    },
    {
      "cell_type": "code",
      "source": [
        "type(sum)"
      ],
      "metadata": {
        "colab": {
          "base_uri": "https://localhost:8080/"
        },
        "id": "igiS0nASkib3",
        "outputId": "cfee99cb-a261-4a83-c40c-3c2ebc74e33c"
      },
      "execution_count": null,
      "outputs": [
        {
          "output_type": "execute_result",
          "data": {
            "text/plain": [
              "int"
            ]
          },
          "metadata": {},
          "execution_count": 51
        }
      ]
    },
    {
      "cell_type": "code",
      "source": [
        "# Substraction\n",
        "\n",
        "difference = a - b\n",
        "print(f'Difference: {difference}' )"
      ],
      "metadata": {
        "colab": {
          "base_uri": "https://localhost:8080/"
        },
        "id": "5LLoaEOqmYDl",
        "outputId": "e3ab6d2f-913a-4c43-edf0-658174c88e6b"
      },
      "execution_count": null,
      "outputs": [
        {
          "output_type": "stream",
          "name": "stdout",
          "text": [
            "Difference: 2\n"
          ]
        }
      ]
    },
    {
      "cell_type": "code",
      "source": [
        "# Multiplication\n",
        "\n",
        "multip = a * b\n",
        "print(f'Multiplication: {multip}' )"
      ],
      "metadata": {
        "colab": {
          "base_uri": "https://localhost:8080/"
        },
        "id": "eHbvNOJDmki9",
        "outputId": "b9e334c8-d085-4af3-f474-05c151e8e155"
      },
      "execution_count": null,
      "outputs": [
        {
          "output_type": "stream",
          "name": "stdout",
          "text": [
            "Multiplication: 15\n"
          ]
        }
      ]
    },
    {
      "cell_type": "code",
      "source": [
        "# Division\n",
        "\n",
        "div = a / b"
      ],
      "metadata": {
        "id": "MPJkwqvFnIKM"
      },
      "execution_count": null,
      "outputs": []
    },
    {
      "cell_type": "code",
      "source": [
        "# Expo\n",
        "\n",
        "power = a ** b\n",
        "print(power)"
      ],
      "metadata": {
        "colab": {
          "base_uri": "https://localhost:8080/"
        },
        "id": "OFPB4ctbnO-U",
        "outputId": "2a5c2c42-81ff-44a0-cc00-a339462a37dd"
      },
      "execution_count": null,
      "outputs": [
        {
          "output_type": "stream",
          "name": "stdout",
          "text": [
            "125\n"
          ]
        }
      ]
    },
    {
      "cell_type": "code",
      "source": [
        "input1 = input('How old are you?: ') #STRING VALUE!!!!!\n",
        "input2 = input('How old am I?: ') #STRING VALUE!!!!!\n",
        "\n",
        "input1_int = int(input1)\n",
        "input2_int = int(input2)\n",
        "\n",
        "sum = input1_int + input2_int\n",
        "print(sum)"
      ],
      "metadata": {
        "colab": {
          "base_uri": "https://localhost:8080/"
        },
        "id": "C13jnoRTp2XK",
        "outputId": "b049c77d-ee84-42b2-91a8-bd519c363c1e"
      },
      "execution_count": null,
      "outputs": [
        {
          "output_type": "stream",
          "name": "stdout",
          "text": [
            "How old are you?: 10\n",
            "How old am I?: 28\n",
            "38\n"
          ]
        }
      ]
    },
    {
      "cell_type": "markdown",
      "source": [
        "### DENSITY"
      ],
      "metadata": {
        "id": "jiVrhoUnsBl_"
      }
    },
    {
      "cell_type": "code",
      "source": [
        "area = input(\"Enter area: \")\n",
        "population = input(\"Enter population: \")\n",
        "\n",
        "area_int = int(area)\n",
        "population_int = int(population)\n",
        "\n",
        "density = population_int / area_int\n",
        "\n",
        "print(f'Average density is: {density}')"
      ],
      "metadata": {
        "colab": {
          "base_uri": "https://localhost:8080/"
        },
        "id": "mZfAlvUFre5q",
        "outputId": "622aac73-974e-417f-b7cc-758e77030359"
      },
      "execution_count": null,
      "outputs": [
        {
          "output_type": "stream",
          "name": "stdout",
          "text": [
            "Enter area: 600000\n",
            "Enter population: 4000\n",
            "Average density is: 0.006666666666666667\n"
          ]
        }
      ]
    },
    {
      "cell_type": "code",
      "source": [
        "area = input(\"Enter area: \")\n",
        "population = input(\"Enter population: \")\n",
        "\n",
        "area_int = int(area)\n",
        "population_int = int(population)\n",
        "\n",
        "density = population_int / area_int\n",
        "\n",
        "print(f'Average density is: {density}')"
      ],
      "metadata": {
        "id": "hihk0inWtXnR"
      },
      "execution_count": null,
      "outputs": []
    },
    {
      "cell_type": "markdown",
      "source": [
        "### Converting pounds to kilograms"
      ],
      "metadata": {
        "id": "kcw8wV3DvM2M"
      }
    },
    {
      "cell_type": "code",
      "source": [
        "# 1 pound = 0.453592 kilograms"
      ],
      "metadata": {
        "id": "ZS9CUp-FvVQE"
      },
      "execution_count": null,
      "outputs": []
    },
    {
      "cell_type": "code",
      "source": [
        "pounds = input(\"Enter the weight in pounds: \")\n",
        "\n",
        "pounds_float = float(pounds)\n",
        "CONVERSION_FACTOR = 0.453592 # constant variable\n",
        "\n",
        "kilograms = round(pounds_float * CONVERSION_FACTOR, 3)\n",
        "\n",
        "print(f'Weight in pounds: {pounds} lb, Weight in Kilograms: {kilograms} kg')"
      ],
      "metadata": {
        "colab": {
          "base_uri": "https://localhost:8080/"
        },
        "id": "-j99owQwvaNO",
        "outputId": "b5bfec11-53d1-4f4b-cd6b-1c2c7350cbfa"
      },
      "execution_count": null,
      "outputs": [
        {
          "output_type": "stream",
          "name": "stdout",
          "text": [
            "Enter the weight in pounds: 9\n",
            "Weight in pounds: 9 lb, Weight in Kilograms: 4.082 kg\n"
          ]
        }
      ]
    }
  ]
}