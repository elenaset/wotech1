{
  "cells": [
    {
      "cell_type": "markdown",
      "metadata": {
        "id": "view-in-github",
        "colab_type": "text"
      },
      "source": [
        "<a href=\"https://colab.research.google.com/github/elenaset/wotech1/blob/main/4_Lesson_4_13_04_2024.ipynb\" target=\"_parent\"><img src=\"https://colab.research.google.com/assets/colab-badge.svg\" alt=\"Open In Colab\"/></a>"
      ]
    },
    {
      "cell_type": "code",
      "execution_count": null,
      "metadata": {
        "id": "SnO5RGUPswol"
      },
      "outputs": [],
      "source": []
    },
    {
      "cell_type": "markdown",
      "metadata": {
        "id": "_pulGe82s9wO"
      },
      "source": [
        "Lesson 4, Topic: Conditional execution || and list objects\n",
        "\n",
        "Error handling Try/Except\n",
        "\n",
        "Multi way and nested decisions with if and else and elif\n",
        "\n",
        "Introduction to list objects\n",
        "\n",
        "Team work: List operations\n",
        "\n",
        "1.Define a list of numbers [10, 20, 30, 40, 50].\n",
        "2.Print the length of the list.\n",
        "3.Print the first element of the list.\n",
        "4.Print the last element of the list.\n",
        "5.Append a new number (e.g., 60) to the list.\n",
        "6.Print the updated list.\n",
        "7.Remove the second element from the list.\n",
        "8.Print the list after removal.\n",
        "9.Check if a specific number (e.g., 30) exists in the list and print the result.\n"
      ]
    },
    {
      "cell_type": "code",
      "source": [
        "# COMPARE TWO NUMBERS IN NESTED DECISION\n",
        "\n",
        "num1 = int(input('Write number 1:'))\n",
        "num2 = int(input('Write number 2:'))\n",
        "\n",
        "if num1 >= num2:\n",
        "  if num1 == num2:\n",
        "    print(f'{num1} is equal to {num2}')\n",
        "  else:\n",
        "    print(f'{num1} is greater than {num2}')\n",
        "else:\n",
        "  print(f'{num1} is smaller than {num2}')"
      ],
      "metadata": {
        "colab": {
          "base_uri": "https://localhost:8080/"
        },
        "id": "2Q7b-64z1ly-",
        "outputId": "ff6d6d68-ad28-42c4-af2b-d46a323ad315"
      },
      "execution_count": null,
      "outputs": [
        {
          "output_type": "stream",
          "name": "stdout",
          "text": [
            "Write number 1:100\n",
            "Write number 2:200\n",
            "100 is smaller than 200\n"
          ]
        }
      ]
    },
    {
      "cell_type": "code",
      "source": [
        "# TRY, EXCEPT AND ELSE\n",
        "# PUT THIS IN WHILE LOOP\n",
        "\n",
        "stock = input('Stock: ')\n",
        "try:\n",
        "  product_stock = int(stock)\n",
        "except:\n",
        "  print('Wrong input!')\n",
        "else:\n",
        "  if product_stock > 10:\n",
        "    print('Stock level sufficient')\n",
        "  else:\n",
        "    print('Low stock!')"
      ],
      "metadata": {
        "colab": {
          "base_uri": "https://localhost:8080/"
        },
        "id": "K-huzIoP3KWG",
        "outputId": "8b089132-4957-4778-e6d0-a415ecc17ebf"
      },
      "execution_count": null,
      "outputs": [
        {
          "output_type": "stream",
          "name": "stdout",
          "text": [
            "Stock: 9\n",
            "Low stock!\n"
          ]
        }
      ]
    },
    {
      "cell_type": "code",
      "source": [
        "# TRY, EXCEPT AND ELSE\n",
        "# PUT THIS IN WHILE LOOP\n",
        "\n",
        "stock = input('Stock: ')\n",
        "  product_stock = int(stock)\n",
        "  if product_stock > 10:\n",
        "    print('Stock level sufficient')\n",
        "  else:\n",
        "    print('Low stock!')"
      ],
      "metadata": {
        "colab": {
          "base_uri": "https://localhost:8080/",
          "height": 106
        },
        "id": "J_SSd2528Fkf",
        "outputId": "7769e78c-722b-4c87-e1d2-44064150bf18"
      },
      "execution_count": null,
      "outputs": [
        {
          "output_type": "error",
          "ename": "IndentationError",
          "evalue": "unexpected indent (<ipython-input-3-87c61d4a637c>, line 5)",
          "traceback": [
            "\u001b[0;36m  File \u001b[0;32m\"<ipython-input-3-87c61d4a637c>\"\u001b[0;36m, line \u001b[0;32m5\u001b[0m\n\u001b[0;31m    product_stock = int(stock)\u001b[0m\n\u001b[0m    ^\u001b[0m\n\u001b[0;31mIndentationError\u001b[0m\u001b[0;31m:\u001b[0m unexpected indent\n"
          ]
        }
      ]
    },
    {
      "cell_type": "code",
      "execution_count": null,
      "metadata": {
        "colab": {
          "base_uri": "https://localhost:8080/"
        },
        "id": "MhykO7RAtCUe",
        "outputId": "7e352f9d-7d67-4471-d941-9f0ed7cb059a"
      },
      "outputs": [
        {
          "name": "stdout",
          "output_type": "stream",
          "text": [
            "Input stock: 9\n",
            "Low stock!\n"
          ]
        }
      ],
      "source": [
        "# this also will work, but better another else\n",
        "stock = input('Input stock: ')\n",
        "\n",
        "try:\n",
        "    product_stock = int(stock)\n",
        "except:\n",
        "    print('Wrong input!')\n",
        "#here need else\n",
        "if product_stock > 10:\n",
        "    print('Stock level is sufficient!')\n",
        "else:\n",
        "    print('Low stock!')\n"
      ]
    },
    {
      "cell_type": "code",
      "execution_count": null,
      "metadata": {
        "colab": {
          "base_uri": "https://localhost:8080/"
        },
        "id": "G80xZYpHt3vn",
        "outputId": "ad57139f-7902-4e70-bfa2-f52627bee6c0"
      },
      "outputs": [
        {
          "name": "stdout",
          "output_type": "stream",
          "text": [
            "Stock: m\n",
            "Wrong input\n"
          ]
        }
      ],
      "source": [
        "stock = input(\"Stock: \")\n",
        "try:\n",
        "    product_stock = int(stock)\n",
        "except:\n",
        "    print(\"Wrong input\")\n",
        "else: #change if to else compared to previous without try and except\n",
        "    if product_stock > 10:\n",
        "        print(\"Stock lvl good\")\n",
        "    else:\n",
        "        print(\"Low stock\")"
      ]
    },
    {
      "cell_type": "code",
      "execution_count": null,
      "metadata": {
        "colab": {
          "base_uri": "https://localhost:8080/"
        },
        "id": "4reOda84uFNg",
        "outputId": "5779a79e-e534-4512-a3b6-b6a9949a8e24"
      },
      "outputs": [
        {
          "name": "stdout",
          "output_type": "stream",
          "text": [
            "Input stock: 10\n",
            "Low stock!\n"
          ]
        }
      ],
      "source": [
        "#Elchin — 04/13/2024 10:33 AM\n",
        "#One fast solution:\n",
        "repeat = True\n",
        "\n",
        "while repeat:\n",
        "    stock = input('Input stock: ')\n",
        "\n",
        "    try:\n",
        "        product_stock = int(stock)\n",
        "    except:\n",
        "        print('Wrong input!')\n",
        "    else:\n",
        "        if product_stock > 10:\n",
        "            print('Stock level is sufficient!')\n",
        "        else:\n",
        "            print('Low stock!')\n",
        "        repeat = False"
      ]
    },
    {
      "cell_type": "markdown",
      "metadata": {
        "id": "xGM-xFRNxWD0"
      },
      "source": [
        "•\tPrompt the user to enter their name, the speed limit (in km/h), and their actual speed (in km/h)."
      ]
    },
    {
      "cell_type": "code",
      "execution_count": null,
      "metadata": {
        "colab": {
          "base_uri": "https://localhost:8080/"
        },
        "id": "oD0yPCQrw3yN",
        "outputId": "9d22fdd6-a5df-425e-8e42-3729be50146c"
      },
      "outputs": [
        {
          "name": "stdout",
          "output_type": "stream",
          "text": [
            "Please write your name: Елена\n",
            "Please input the speed limit: 100\n",
            "Please input your actual speed: 90\n"
          ]
        }
      ],
      "source": [
        "name = input('Please write your name: ')\n",
        "speed_limit = input('Please input the speed limit: ')\n",
        "actual_speed = input('Please input your actual speed: ')\n"
      ]
    },
    {
      "cell_type": "code",
      "execution_count": null,
      "metadata": {
        "colab": {
          "base_uri": "https://localhost:8080/"
        },
        "id": "L-Y_mKnvxEae",
        "outputId": "d37bb389-4ebc-4f8a-886f-f262c664a60c"
      },
      "outputs": [
        {
          "name": "stdout",
          "output_type": "stream",
          "text": [
            "Please state your name:Elena\n",
            "The speed limit:100\n",
            "Your speed:110\n"
          ]
        }
      ],
      "source": [
        "name = input('Please state your name:')\n",
        "speed_limit = int(input('The speed limit:'))\n",
        "actual_speed = int(input('Your speed:'))"
      ]
    },
    {
      "cell_type": "code",
      "source": [],
      "metadata": {
        "id": "my-6B6-0ByTk"
      },
      "execution_count": null,
      "outputs": []
    },
    {
      "cell_type": "markdown",
      "source": [
        "Calculate the difference between the actual speed and the speed limit, and then calculate the fine based on the difference (3 euros per km/h over the limit).\n",
        "\n",
        "•\tHandle potential non-integer inputs for speed limit and actual speed using a try block.\n",
        "\n",
        "•\tIf non-integer inputs are detected, set the speed limit to -1 to indicate wrong speed values.\n",
        "\n",
        "•\tIf the speed limit is -1, print \"Wrong speed values entered. Please enter km/h.\"\n",
        "•\tIf the actual speed does not exceed the speed limit, print \"Speed limit is not exceeded. No fine applied.\"\n",
        "\n",
        "•\tIf the actual speed exceeds the speed limit, check if the fine is less than or equal to 190 euros. If so, print \"{name}, your fine for speeding is {fine} euros.\" - Otherwise, print \"{name}, your fine for speeding is 190 euros.\"\n"
      ],
      "metadata": {
        "id": "1tE2rOJCBtSl"
      }
    },
    {
      "cell_type": "code",
      "source": [
        "name = input('Please write your name: ')\n",
        "speed_limit = input('Please input the speed limit: ')\n",
        "actual_speed = input('Please input your actual speed: ')\n",
        "\n",
        "try:\n",
        "  speed_limit = int(speed_limit)\n",
        "  actual_speed = int(actual_speed)\n",
        "except:\n",
        "  print(\"Wrong speed values entered. Please enter km/h.\")\n",
        "else:\n",
        "  difference = actual_speed - speed_limit\n",
        "  fine = difference * 3\n",
        "\n",
        "  if speed_limit >= actual_speed: #difference < 0\n",
        "    print(\"Speed limit is not exceeded. No fine applied.\")\n",
        "  else:\n",
        "    if fine > 190:\n",
        "      print(f\"{name}, your fine for speeding is 190 euros.\")\n",
        "    else:\n",
        "      print(f\"{name}, your fine for speeding is {fine} euros.\")"
      ],
      "metadata": {
        "colab": {
          "base_uri": "https://localhost:8080/"
        },
        "id": "B-qa2_CyDGf0",
        "outputId": "326b19d9-275d-4985-aa4e-26814aefca7d"
      },
      "execution_count": null,
      "outputs": [
        {
          "output_type": "stream",
          "name": "stdout",
          "text": [
            "Please write your name: A\n",
            "Please input the speed limit: 100\n",
            "Please input your actual speed: 110\n",
            "A, your fine for speeding is 30 euros.\n"
          ]
        }
      ]
    },
    {
      "cell_type": "code",
      "execution_count": null,
      "metadata": {
        "colab": {
          "background_save": true,
          "base_uri": "https://localhost:8080/"
        },
        "id": "5EjjqOrFxqrF",
        "outputId": "b1009164-370a-4362-ab74-7f3fe1230972"
      },
      "outputs": [
        {
          "name": "stdout",
          "output_type": "stream",
          "text": [
            "SPEEDING FINE CALCULATOR\n",
            "Your fine is 30\n"
          ]
        }
      ],
      "source": [
        "\n",
        "print('SPEEDING FINE CALCULATOR')\n",
        "\n",
        "repeat = True # boolean with capital T\n",
        "\n",
        "while repeat:\n",
        "\n",
        "  name = input('Please, input your name: ')\n",
        "  speed_limit = input('Please, enter your speed limit: ')\n",
        "  actual_speed = input('Please, enter your actual speed: ')\n",
        "\n",
        "  try:\n",
        "    speed_limit = int(speed_limit)\n",
        "    actual_speed = int(actual_speed)\n",
        "  except:\n",
        "    print('Wrong input!')\n",
        "  else:\n",
        "    if speed_limit < actual_speed:\n",
        "      fine = ((actual_speed - speed_limit) * 3)\n",
        "      print(f'Your fine is {fine}')"
      ]
    },
    {
      "cell_type": "code",
      "execution_count": null,
      "metadata": {
        "colab": {
          "base_uri": "https://localhost:8080/"
        },
        "id": "0YhYpuQuyWKt",
        "outputId": "d572ac56-6596-499d-c20d-306a7ddaf2a3"
      },
      "outputs": [
        {
          "name": "stdout",
          "output_type": "stream",
          "text": [
            "Please write your name: A\n",
            "Please input the speed limit: 100\n",
            "Please input your actual speed: 110\n",
            "A,your fine for speeding is 30euros.\n"
          ]
        }
      ],
      "source": [
        "name = input('Please write your name: ')\n",
        "speed_limit = input('Please input the speed limit: ')\n",
        "actual_speed = input('Please input your actual speed: ')\n",
        "\n",
        "try:\n",
        "  speed_limit = int(speed_limit)\n",
        "  actual_speed = int(actual_speed)\n",
        "except:\n",
        "  print(\"Wrong speed values entered. Please enter km/h.\")\n",
        "else:\n",
        "  difference = actual_speed - speed_limit\n",
        "  fine = difference * 3\n",
        "  if speed_limit >= actual_speed:\n",
        "    print(\"Speed limit is not exceeded. No fine applied.\")\n",
        "  else:\n",
        "    if fine > 190:\n",
        "      print(f\"{name},your fine for speeding is 190 euros.\")\n",
        "    else:\n",
        "      print(f\"{name},your fine for speeding is {fine}euros.\")"
      ]
    },
    {
      "cell_type": "code",
      "execution_count": null,
      "metadata": {
        "id": "54uaWeYtzTAf"
      },
      "outputs": [],
      "source": [
        "name = input('Input your name: ')\n",
        "\n",
        "try:\n",
        "    speed_limit = int(input('What is the speed limit here: '))\n",
        "    actual_speed = int(input('How fast are you actually going? '))\n",
        "except ValueError:\n",
        "    speed_limit = -1\n",
        "    actual_speed = -1\n",
        "    print('Wrong input')\n",
        "\n",
        "if speed_limit == -1:\n",
        "    print('Wrong speed values entered. Please enter km/h.')\n",
        "else:\n",
        "    print(f'Hi, {name}!')\n",
        "\n",
        "    difference = actual_speed - speed_limit\n",
        "    if difference <= 0:\n",
        "        print('Speed limit is not exceeded. No fine applied.')\n",
        "    else:\n",
        "        fine = difference * 3\n",
        "        if fine <= 190:\n",
        "            print(f'{name}, your fine for speeding is {fine} euros.')\n",
        "        else:\n",
        "            print(f'{name}, your fine for speeding is 190 euros.')\n"
      ]
    },
    {
      "cell_type": "code",
      "execution_count": null,
      "metadata": {
        "id": "a1OUJtl60Hdz"
      },
      "outputs": [],
      "source": [
        "if difference <= 0:\n",
        "    print('Speed limit is not exceeded. No fine applied.')\n",
        "  else:\n",
        "    fine = difference * 3\n",
        "    if fine > 190:\n",
        "      fine = 190\n",
        "    print(f'{name}, your fine for speeding is {fine} euros.')"
      ]
    },
    {
      "cell_type": "code",
      "source": [
        "name = input('Please write your name: ')\n",
        "speed_limit = input('Please input the speed limit: ')\n",
        "actual_speed = input('Please input your actual speed: ')\n",
        "\n",
        "try:\n",
        "  speed_limit = int(speed_limit)\n",
        "  actual_speed = int(actual_speed)\n",
        "except:\n",
        "  print(\"Wrong speed values entered. Please enter km/h.\")\n",
        "else:\n",
        "  difference = actual_speed - speed_limit\n",
        "  fine = difference * 3\n",
        "  if speed_limit < 0 or actual_speed < 0:\n",
        "    print('Speed limit MUST be positive')\n",
        "  elif speed_limit >= actual_speed: #difference < 0\n",
        "    print(\"Speed limit is not exceeded. No fine applied.\")\n",
        "  else:\n",
        "    fine = min(190, difference * 3)\n",
        "    print(f'{name}, your fine for speeding is {fine} euros.')"
      ],
      "metadata": {
        "colab": {
          "base_uri": "https://localhost:8080/"
        },
        "id": "uv4uiZZdFGic",
        "outputId": "0926820a-ad20-44de-c537-69dad0e10599"
      },
      "execution_count": null,
      "outputs": [
        {
          "output_type": "stream",
          "name": "stdout",
          "text": [
            "Please write your name: R\n",
            "Please input the speed limit: 50\n",
            "Please input your actual speed: 70\n",
            "R, your fine for speeding is 60 euros.\n"
          ]
        }
      ]
    },
    {
      "cell_type": "markdown",
      "source": [
        "LISTS\n"
      ],
      "metadata": {
        "id": "OPgmQYLnGCbf"
      }
    },
    {
      "cell_type": "code",
      "source": [
        "flowers = \"pink primrose,hard-leaved pocket orchid,canterbury bells,sweet pea,english marigold,tiger lily,moon orchid,bird of paradise,monkshood,globe thistle\"\n",
        "\n",
        "print(type(flowers))"
      ],
      "metadata": {
        "colab": {
          "base_uri": "https://localhost:8080/"
        },
        "id": "4v4gtK7CGMzT",
        "outputId": "5a6cce34-4d4e-4d29-adcf-5ae06cc14574"
      },
      "execution_count": null,
      "outputs": [
        {
          "output_type": "stream",
          "name": "stdout",
          "text": [
            "<class 'str'>\n"
          ]
        }
      ]
    },
    {
      "cell_type": "code",
      "source": [
        "flowers = [\"pink primrose\", \"hard-leaved pocket orchid\",\"canterbury bells\",\"sweet pea\",\"english marigold\",\"tiger lily\",\"moon orchid\",\"bird of paradise\",\"monkshood\",\"globe thistle\"]\n",
        "print(type(flowers))"
      ],
      "metadata": {
        "id": "sofVkgNHHn6t",
        "outputId": "3de57663-a822-4c67-e56b-2e076590caf4",
        "colab": {
          "base_uri": "https://localhost:8080/"
        }
      },
      "execution_count": null,
      "outputs": [
        {
          "output_type": "stream",
          "name": "stdout",
          "text": [
            "<class 'list'>\n"
          ]
        }
      ]
    }
  ],
  "metadata": {
    "colab": {
      "provenance": [],
      "authorship_tag": "ABX9TyPfIDl+JsfgKDYrjkVjqfBl",
      "include_colab_link": true
    },
    "kernelspec": {
      "display_name": "Python 3",
      "name": "python3"
    },
    "language_info": {
      "name": "python"
    }
  },
  "nbformat": 4,
  "nbformat_minor": 0
}