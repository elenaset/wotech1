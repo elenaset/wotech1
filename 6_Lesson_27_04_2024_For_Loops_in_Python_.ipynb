{
  "nbformat": 4,
  "nbformat_minor": 0,
  "metadata": {
    "colab": {
      "provenance": [],
      "authorship_tag": "ABX9TyNzKtc0jhqzNtFrSkUh+/yj",
      "include_colab_link": true
    },
    "kernelspec": {
      "name": "python3",
      "display_name": "Python 3"
    },
    "language_info": {
      "name": "python"
    }
  },
  "cells": [
    {
      "cell_type": "markdown",
      "metadata": {
        "id": "view-in-github",
        "colab_type": "text"
      },
      "source": [
        "<a href=\"https://colab.research.google.com/github/elenaset/wotech1/blob/main/6_Lesson_27_04_2024_For_Loops_in_Python_.ipynb\" target=\"_parent\"><img src=\"https://colab.research.google.com/assets/colab-badge.svg\" alt=\"Open In Colab\"/></a>"
      ]
    },
    {
      "cell_type": "markdown",
      "source": [
        "For loops in Python\n",
        "\n",
        "Iterating through lists and nested lists\n",
        "\n",
        "Nested loops with nested lists\n",
        "\n",
        "range() - iterative object\n",
        "\n",
        "\n",
        "\n"
      ],
      "metadata": {
        "id": "WTXWL-n2fRt5"
      }
    },
    {
      "cell_type": "code",
      "execution_count": null,
      "metadata": {
        "colab": {
          "base_uri": "https://localhost:8080/"
        },
        "id": "mihYI5UJeyYq",
        "outputId": "32143df0-aab2-44e9-ecca-de78a23bb7d7"
      },
      "outputs": [
        {
          "output_type": "stream",
          "name": "stdout",
          "text": [
            "1\n",
            "2\n",
            "3\n",
            "4\n",
            "5\n"
          ]
        }
      ],
      "source": [
        "numbers = \"12345\"\n",
        "for number in numbers:\n",
        "    print(number)"
      ]
    },
    {
      "cell_type": "code",
      "source": [
        "for letter in \"I LOVE PYTHON\": #STRING ITERABLE OBJECT\n",
        "  print(letter)"
      ],
      "metadata": {
        "colab": {
          "base_uri": "https://localhost:8080/"
        },
        "id": "h_6sDo1Qfv4C",
        "outputId": "e1c45257-1794-4b4d-ea6f-5e8e428b8621"
      },
      "execution_count": null,
      "outputs": [
        {
          "output_type": "stream",
          "name": "stdout",
          "text": [
            "I\n",
            " \n",
            "L\n",
            "O\n",
            "V\n",
            "E\n",
            " \n",
            "P\n",
            "Y\n",
            "T\n",
            "H\n",
            "O\n",
            "N\n"
          ]
        }
      ]
    },
    {
      "cell_type": "code",
      "source": [
        "for word in \"i love python\".split():\n",
        "    print(word)"
      ],
      "metadata": {
        "colab": {
          "base_uri": "https://localhost:8080/"
        },
        "id": "U2P8WYICf8rW",
        "outputId": "9242d01d-c7e1-49a4-e198-332751b09fd9"
      },
      "execution_count": null,
      "outputs": [
        {
          "output_type": "stream",
          "name": "stdout",
          "text": [
            "i\n",
            "love\n",
            "python\n"
          ]
        }
      ]
    },
    {
      "cell_type": "code",
      "source": [
        "for x in \"I LOVE PYTHON\": #STRING ITERABLE OBJECT\n",
        "  print(x, end = ' ') #\\n NEW LINE CHARACTER"
      ],
      "metadata": {
        "colab": {
          "base_uri": "https://localhost:8080/"
        },
        "id": "fkxHg53xgFow",
        "outputId": "abe1551e-47e6-471c-cf13-4f2609f98324"
      },
      "execution_count": null,
      "outputs": [
        {
          "output_type": "stream",
          "name": "stdout",
          "text": [
            "I   L O V E   P Y T H O N "
          ]
        }
      ]
    },
    {
      "cell_type": "code",
      "source": [
        "for x in \"I LOVE PYTHON\": #STRING ITERABLE OBJECT\n",
        "  print(x, end = '\\n') #\\n NEW LINE CHARACTER"
      ],
      "metadata": {
        "colab": {
          "base_uri": "https://localhost:8080/"
        },
        "id": "r6wq1L0kkUcN",
        "outputId": "990353aa-9e17-4627-c2fc-67d7fa8ddc5d"
      },
      "execution_count": null,
      "outputs": [
        {
          "output_type": "stream",
          "name": "stdout",
          "text": [
            "I\n",
            " \n",
            "L\n",
            "O\n",
            "V\n",
            "E\n",
            " \n",
            "P\n",
            "Y\n",
            "T\n",
            "H\n",
            "O\n",
            "N\n"
          ]
        }
      ]
    },
    {
      "cell_type": "markdown",
      "source": [
        "FOR LOOP LIST"
      ],
      "metadata": {
        "id": "b065cL-nksq6"
      }
    },
    {
      "cell_type": "code",
      "source": [
        "cities_i_have_been_to = ['Tallin', 'Riga', 'Tartu', 'Aluksne', 'Viru', 'Ventspils']\n",
        "for city in cities_i_have_been_to:\n",
        "    print(f'I have been to {city}')"
      ],
      "metadata": {
        "colab": {
          "base_uri": "https://localhost:8080/"
        },
        "id": "Oz_mnIzKlTYl",
        "outputId": "fd441ad4-6838-4cb8-823a-73767e38845b"
      },
      "execution_count": null,
      "outputs": [
        {
          "output_type": "stream",
          "name": "stdout",
          "text": [
            "I have been to Tallin\n",
            "I have been to Riga\n",
            "I have been to Tartu\n",
            "I have been to Aluksne\n",
            "I have been to Viru\n",
            "I have been to Ventspils\n"
          ]
        }
      ]
    },
    {
      "cell_type": "code",
      "source": [
        "#MMary example\n",
        "cities_i_have_been_to = ['Tallin', 'Riga', 'Tartu', 'Aluksne', 'Viru', 'Ventspils']\n",
        "for city in cities_i_have_been_to:\n",
        "    print(f'I have been to ' + city)"
      ],
      "metadata": {
        "colab": {
          "base_uri": "https://localhost:8080/"
        },
        "id": "lkm9RhzFgMFY",
        "outputId": "4a7a5c09-c9ce-4aa3-e739-5575c9849479"
      },
      "execution_count": null,
      "outputs": [
        {
          "output_type": "stream",
          "name": "stdout",
          "text": [
            "I have been to Tallin\n",
            "I have been to Riga\n",
            "I have been to Tartu\n",
            "I have been to Aluksne\n",
            "I have been to Viru\n",
            "I have been to Ventspils\n"
          ]
        }
      ]
    },
    {
      "cell_type": "code",
      "source": [
        "counter = 0 #INITIALIZE THE COUNTER\n",
        "\n",
        "for city in cities_i_have_been_to:\n",
        "  counter = counter + 1\n",
        "  print(f'{counter}. I have been to {city}')"
      ],
      "metadata": {
        "colab": {
          "base_uri": "https://localhost:8080/"
        },
        "id": "2UjeBN0MgYEZ",
        "outputId": "4c2c1ef8-3ec7-4593-deca-75953c29d8bf"
      },
      "execution_count": null,
      "outputs": [
        {
          "output_type": "stream",
          "name": "stdout",
          "text": [
            "1. I have been to Tallin\n",
            "2. I have been to Riga\n",
            "3. I have been to Tartu\n",
            "4. I have been to Aluksne\n",
            "5. I have been to Viru\n",
            "6. I have been to Ventspils\n"
          ]
        }
      ]
    },
    {
      "cell_type": "code",
      "source": [
        "counter = 0 # we initialize the COUNTER (start at 0 if the counter is before the print statement. If it is after, start at 1)\n",
        "\n",
        "cities_i_have_been_to = ['Tallinn', 'Riga', 'Tartu', 'Aluksne', 'Võru', 'Ventspils']\n",
        "previous_city = None\n",
        "\n",
        "for city in cities_i_have_been_to:\n",
        "    counter = counter + 1\n",
        "    print(f'{counter}. I have been to {city}. The previous city I visited was {previous_city}.')\n",
        "    previous_city =  city"
      ],
      "metadata": {
        "colab": {
          "base_uri": "https://localhost:8080/"
        },
        "id": "LVuzmZy4gig0",
        "outputId": "a892bc8f-68b7-426a-8051-9ef6f41188f3"
      },
      "execution_count": null,
      "outputs": [
        {
          "output_type": "stream",
          "name": "stdout",
          "text": [
            "1. I have been to Tallinn. The previous city I visited was None.\n",
            "2. I have been to Riga. The previous city I visited was Tallinn.\n",
            "3. I have been to Tartu. The previous city I visited was Riga.\n",
            "4. I have been to Aluksne. The previous city I visited was Tartu.\n",
            "5. I have been to Võru. The previous city I visited was Aluksne.\n",
            "6. I have been to Ventspils. The previous city I visited was Võru.\n"
          ]
        }
      ]
    },
    {
      "cell_type": "code",
      "source": [
        "# ADD PREVIOUS CITY IN THE FORLOOP\n",
        "cities_i_have_been_to = ['Tallin', 'Riga', 'Tartu', 'Aluksne', 'Viru', 'Ventspils']\n",
        "counter = 0 #INITIALIZE THE COUNTER\n",
        "previous_city = None\n",
        "\n",
        "for city in cities_i_have_been_to:\n",
        "  counter = counter + 1\n",
        "  print(f'{counter}. I have been to {city}. The previous city I visited was {previous_city}.')\n",
        "  previous_city = city"
      ],
      "metadata": {
        "colab": {
          "base_uri": "https://localhost:8080/"
        },
        "id": "3-47t13ygrYW",
        "outputId": "08626db0-1171-448d-bed5-cc1c04717543"
      },
      "execution_count": null,
      "outputs": [
        {
          "output_type": "stream",
          "name": "stdout",
          "text": [
            "1. I have been to Tallin. The previous city I visited was None.\n",
            "2. I have been to Riga. The previous city I visited was Tallin.\n",
            "3. I have been to Tartu. The previous city I visited was Riga.\n",
            "4. I have been to Aluksne. The previous city I visited was Tartu.\n",
            "5. I have been to Viru. The previous city I visited was Aluksne.\n",
            "6. I have been to Ventspils. The previous city I visited was Viru.\n"
          ]
        }
      ]
    },
    {
      "cell_type": "code",
      "source": [
        "# ADD PREVIOUS CITY IN THE FORLOOP\n",
        "cities_i_have_been_to = ['Tallin', 'Riga', 'Tartu', 'Aluksne', 'Viru', 'Ventspils']\n",
        "counter = 0 #INITIALIZE THE COUNTER\n",
        "previous_city = None\n",
        "\n",
        "for city in cities_i_have_been_to:\n",
        "  counter = counter + 1\n",
        "  if previous_city == None:\n",
        "    print(f'{counter}. I have been to {city}. ')\n",
        "  else:\n",
        "    print(f'{counter}. I have been to {city}. The previous city I visited was {previous_city}.')\n",
        "  previous_city = city"
      ],
      "metadata": {
        "colab": {
          "base_uri": "https://localhost:8080/"
        },
        "id": "avnw_yuig3RV",
        "outputId": "ffb9e360-0056-4e85-93b1-555de2ef7e2c"
      },
      "execution_count": null,
      "outputs": [
        {
          "output_type": "stream",
          "name": "stdout",
          "text": [
            "1. I have been to Tallin. \n",
            "2. I have been to Riga. The previous city I visited was Tallin.\n",
            "3. I have been to Tartu. The previous city I visited was Riga.\n",
            "4. I have been to Aluksne. The previous city I visited was Tartu.\n",
            "5. I have been to Viru. The previous city I visited was Aluksne.\n",
            "6. I have been to Ventspils. The previous city I visited was Viru.\n"
          ]
        }
      ]
    },
    {
      "cell_type": "code",
      "source": [
        "#Triin example\n",
        "import random\n",
        "\n",
        "cities_i_have_been_to = ['Tallinn', 'Riga', 'Tartu', 'Aluksne', 'Viru', 'Ventspils']\n",
        "\n",
        "counter = 0\n",
        "previous_city = None\n",
        "adjectives = [\"fun\", \"awful\", \"crazy\", \"scary\", \"lovely\", \"sunny\"]\n",
        "\n",
        "for city in cities_i_have_been_to:\n",
        "  counter = counter + 1\n",
        "  impression = random.choice(adjectives)\n",
        "  if counter > 1:\n",
        "    print(f\"{counter}. I have been to {city} and it was {impression}. The previous city I visited was {previous_city}.\")\n",
        "  else:\n",
        "    print(f\"{counter}. I have been to {city} and it was {impression}.\")\n",
        "  previous_city = city"
      ],
      "metadata": {
        "colab": {
          "base_uri": "https://localhost:8080/"
        },
        "id": "XLIxvw9gtHcW",
        "outputId": "9736890a-84d2-48d3-d2a1-ae5358bfd343"
      },
      "execution_count": null,
      "outputs": [
        {
          "output_type": "stream",
          "name": "stdout",
          "text": [
            "1. I have been to Tallinn and it was sunny.\n",
            "2. I have been to Riga and it was awful. The previous city I visited was Tallinn.\n",
            "3. I have been to Tartu and it was awful. The previous city I visited was Riga.\n",
            "4. I have been to Aluksne and it was awful. The previous city I visited was Tartu.\n",
            "5. I have been to Viru and it was crazy. The previous city I visited was Aluksne.\n",
            "6. I have been to Ventspils and it was crazy. The previous city I visited was Viru.\n"
          ]
        }
      ]
    },
    {
      "cell_type": "markdown",
      "source": [
        "For loops with indexes"
      ],
      "metadata": {
        "id": "9jQ91FAUtq4q"
      }
    },
    {
      "cell_type": "code",
      "source": [
        "cities_i_have_been_to = ['Tallin', 'Riga', 'Tartu', 'Aluksne', 'Viru', 'Ventspils']\n",
        "which_year_I_visited = [2020, 2024, 2020, 2021, 2024, 2022]\n",
        "\n",
        "len(cities_i_have_been_to)  # how many elements"
      ],
      "metadata": {
        "id": "8p7WFgPPhDfH",
        "colab": {
          "base_uri": "https://localhost:8080/"
        },
        "outputId": "fe56f17c-833b-41fe-9e28-0028a77b15c2"
      },
      "execution_count": null,
      "outputs": [
        {
          "output_type": "execute_result",
          "data": {
            "text/plain": [
              "6"
            ]
          },
          "metadata": {},
          "execution_count": 14
        }
      ]
    },
    {
      "cell_type": "code",
      "source": [
        "cities_i_have_been_to = ['Tallin', 'Riga', 'Tartu', 'Aluksne', 'Viru', 'Ventspils']\n",
        "which_year_I_visited = [2020, 2024, 2020, 2021, 2024, 2022]\n",
        "\n",
        "range(len(cities_i_have_been_to))  # how many elements range"
      ],
      "metadata": {
        "colab": {
          "base_uri": "https://localhost:8080/"
        },
        "id": "0I1tK5VquMa7",
        "outputId": "69ffbd22-6c91-4f31-9b1d-3180dfe86259"
      },
      "execution_count": null,
      "outputs": [
        {
          "output_type": "execute_result",
          "data": {
            "text/plain": [
              "range(0, 6)"
            ]
          },
          "metadata": {},
          "execution_count": 15
        }
      ]
    },
    {
      "cell_type": "code",
      "source": [
        "cities_i_have_been_to = ['Tallin', 'Riga', 'Tartu', 'Aluksne', 'Viru', 'Ventspils']\n",
        "which_year_I_visited = [2020, 2024, 2020, 2021, 2024, 2022]\n",
        "\n",
        "list(range(len(cities_i_have_been_to)))  # how many elements range"
      ],
      "metadata": {
        "colab": {
          "base_uri": "https://localhost:8080/"
        },
        "id": "Jv4r96n5ubZn",
        "outputId": "1b7e2e60-e72e-4874-ca9b-eb6c070d0c0e"
      },
      "execution_count": null,
      "outputs": [
        {
          "output_type": "execute_result",
          "data": {
            "text/plain": [
              "[0, 1, 2, 3, 4, 5]"
            ]
          },
          "metadata": {},
          "execution_count": 16
        }
      ]
    },
    {
      "cell_type": "code",
      "source": [
        "range(len(cities_i_have_been_to)) #elements [0,1,2,3,4,5]\n",
        "for i in range(len(cities_i_have_been_to)):\n",
        "  print(f'This is the index {i}')"
      ],
      "metadata": {
        "colab": {
          "base_uri": "https://localhost:8080/"
        },
        "id": "Yqj7L5YFhdUl",
        "outputId": "3d6c1057-fc21-4eb7-cbd5-37e51af7e82b"
      },
      "execution_count": null,
      "outputs": [
        {
          "output_type": "stream",
          "name": "stdout",
          "text": [
            "This is the index 0\n",
            "This is the index 1\n",
            "This is the index 2\n",
            "This is the index 3\n",
            "This is the index 4\n",
            "This is the index 5\n"
          ]
        }
      ]
    },
    {
      "cell_type": "code",
      "source": [
        "range(len(cities_i_have_been_to)) #elements  [0, 1, 2, 3, 4, 5]\n",
        "for i in range(len(cities_i_have_been_to)):\n",
        "  print(f'This is the index {i}')\n",
        "  print(cities_i_have_been_to[i])\n",
        "  print(which_year_I_visited[i])\n"
      ],
      "metadata": {
        "colab": {
          "base_uri": "https://localhost:8080/"
        },
        "id": "3xoD9qGShrL7",
        "outputId": "c1594004-255f-43d3-b680-fee6a91ace35"
      },
      "execution_count": null,
      "outputs": [
        {
          "output_type": "stream",
          "name": "stdout",
          "text": [
            "This is the index 0\n",
            "Tallin\n",
            "2020\n",
            "This is the index 1\n",
            "Riga\n",
            "2024\n",
            "This is the index 2\n",
            "Tartu\n",
            "2020\n",
            "This is the index 3\n",
            "Aluksne\n",
            "2021\n",
            "This is the index 4\n",
            "Viru\n",
            "2024\n",
            "This is the index 5\n",
            "Ventspils\n",
            "2022\n"
          ]
        }
      ]
    },
    {
      "cell_type": "code",
      "source": [
        "#{} - for variable using in f string, [] - for index\n",
        "range(len(cities_i_have_been_to)) #elements  [0, 1, 2, 3, 4, 5]\n",
        "for i in range(len(cities_i_have_been_to)):\n",
        "  print(f'I have been to {cities_i_have_been_to[i]}. I visited that city in {which_year_I_visited[i]}')"
      ],
      "metadata": {
        "colab": {
          "base_uri": "https://localhost:8080/"
        },
        "id": "I1Sk3rOVhxR_",
        "outputId": "32ba1743-5551-41b5-8274-7115b8e916e9"
      },
      "execution_count": null,
      "outputs": [
        {
          "output_type": "stream",
          "name": "stdout",
          "text": [
            "I have been to Tallinn. I visited that city in 2020\n",
            "I have been to Riga. I visited that city in 2024\n",
            "I have been to Tartu. I visited that city in 2020\n",
            "I have been to Aluksne. I visited that city in 2021\n",
            "I have been to Viru. I visited that city in 2024\n",
            "I have been to Ventspils. I visited that city in 2022\n"
          ]
        }
      ]
    },
    {
      "cell_type": "code",
      "source": [
        "#Elchin example The previous was an excellent example you are solving (btw Tallinn has 2 ns)\n",
        "#You can also solve that one by using a simple generator \"range\"\n",
        "\n",
        "cites_i_have_been_to = ['Tallinn', 'Riga', 'Tartu', 'Aluksne', 'Viru', 'Ventspils']\n",
        "\n",
        "for i in range(len(cities_i_have_been_to)):\n",
        "    current_city = cities_i_have_been_to[i]\n",
        "    if i == 0:\n",
        "        print(f'{i + 1}. I have been to {current_city}.')\n",
        "    else:\n",
        "        previous_city = cities_i_have_been_to[i - 1]\n",
        "        print(f'{i + 1}. I have been to {current_city}. The previous city I visited was {previous_city}.')"
      ],
      "metadata": {
        "colab": {
          "base_uri": "https://localhost:8080/"
        },
        "id": "hx--V0-rhMjM",
        "outputId": "89aa883f-a720-4e46-d974-3b4f05164821"
      },
      "execution_count": null,
      "outputs": [
        {
          "output_type": "stream",
          "name": "stdout",
          "text": [
            "1. I have been to Tallin.\n",
            "2. I have been to Riga. The previous city I visited was Tallin.\n",
            "3. I have been to Tartu. The previous city I visited was Riga.\n",
            "4. I have been to Aluksne. The previous city I visited was Tartu.\n",
            "5. I have been to Viru. The previous city I visited was Aluksne.\n",
            "6. I have been to Ventspils. The previous city I visited was Viru.\n"
          ]
        }
      ]
    },
    {
      "cell_type": "code",
      "source": [
        "# Elchin and more ADVANCED version using enumeration\n",
        "#optional: you need not to know and go through it now, someday in the future\n",
        "cities_i_have_been_to = ['Tallinn', 'Riga', 'Tartu', 'Aluksne', 'Viru', 'Ventspils']\n",
        "\n",
        "for i, city in enumerate(cities_i_have_been_to, start=1):\n",
        "    if i == 1:\n",
        "        print(f'{i}. I have been to {city}.')\n",
        "    else:\n",
        "        print(f'{i}. I have been to {city}. The previous city I visited was {cities_i_have_been_to[i-2]}.')"
      ],
      "metadata": {
        "colab": {
          "base_uri": "https://localhost:8080/"
        },
        "id": "UKe1GiX2ydIR",
        "outputId": "deadb4ed-3daf-487e-b593-bc1afd017c82"
      },
      "execution_count": null,
      "outputs": [
        {
          "output_type": "stream",
          "name": "stdout",
          "text": [
            "1. I have been to Tallinn.\n",
            "2. I have been to Riga. The previous city I visited was Tallinn.\n",
            "3. I have been to Tartu. The previous city I visited was Riga.\n",
            "4. I have been to Aluksne. The previous city I visited was Tartu.\n",
            "5. I have been to Viru. The previous city I visited was Aluksne.\n",
            "6. I have been to Ventspils. The previous city I visited was Viru.\n"
          ]
        }
      ]
    },
    {
      "cell_type": "code",
      "source": [
        "#jurgak 10:58\n",
        "\n",
        "cities_i_have_been_to = ['Tallin', 'Riga', 'Tartu', 'Aluksne', 'Viru', 'Ventspils']\n",
        "which_year_i_visited = [2020, 2024, 2020, 2021, 2024, 2022]\n",
        "\n",
        "range(len(cities_i_have_been_to)) #elements  [0, 1, 2, 3, 4, 5]\n",
        "for i in range(len(which_year_i_visited)):\n",
        "  print(f'I have been to {cities_i_have_been_to[i]}. I visited this city in {which_year_i_visited[i]}.')"
      ],
      "metadata": {
        "colab": {
          "base_uri": "https://localhost:8080/"
        },
        "id": "EkHn-rwMiC-l",
        "outputId": "eb73b673-4736-4ee5-b57d-2c1d64aabce4"
      },
      "execution_count": null,
      "outputs": [
        {
          "output_type": "stream",
          "name": "stdout",
          "text": [
            "I have been to Tallin. I visited this city in 2020.\n",
            "I have been to Riga. I visited this city in 2024.\n",
            "I have been to Tartu. I visited this city in 2020.\n",
            "I have been to Aluksne. I visited this city in 2021.\n",
            "I have been to Viru. I visited this city in 2024.\n",
            "I have been to Ventspils. I visited this city in 2022.\n"
          ]
        }
      ]
    },
    {
      "cell_type": "markdown",
      "source": [
        "NESTED LISTS"
      ],
      "metadata": {
        "id": "fkOaj9-P1Zht"
      }
    },
    {
      "cell_type": "code",
      "source": [
        "#NESTED LIST\n",
        "matrix_2d = [\n",
        "    [1, 2, 3],\n",
        "    [4, 5, 6],\n",
        "    [7, 8, 9]]"
      ],
      "metadata": {
        "id": "OlxxFoTQ1X9W"
      },
      "execution_count": null,
      "outputs": []
    },
    {
      "cell_type": "code",
      "source": [
        "\n",
        "for i in matrix_2d:\n",
        "  print(f'THIS IS THE SUB-LIST: {i}')\n",
        "  for j in i:\n",
        "    print(f'THESE ARE THE ELEMENTS OF THE SUB-LIST {j}')"
      ],
      "metadata": {
        "colab": {
          "base_uri": "https://localhost:8080/"
        },
        "id": "TEEcrN_Zivsc",
        "outputId": "368d9375-2de4-4964-9443-0dc8b35f3820"
      },
      "execution_count": null,
      "outputs": [
        {
          "output_type": "stream",
          "name": "stdout",
          "text": [
            "THIS IS THE SUB-LIST: [1, 2, 3]\n",
            "THESE ARE THE ELEMENTS OF THE SUB-LIST 1\n",
            "THESE ARE THE ELEMENTS OF THE SUB-LIST 2\n",
            "THESE ARE THE ELEMENTS OF THE SUB-LIST 3\n",
            "THIS IS THE SUB-LIST: [4, 5, 6]\n",
            "THESE ARE THE ELEMENTS OF THE SUB-LIST 4\n",
            "THESE ARE THE ELEMENTS OF THE SUB-LIST 5\n",
            "THESE ARE THE ELEMENTS OF THE SUB-LIST 6\n",
            "THIS IS THE SUB-LIST: [7, 8, 9]\n",
            "THESE ARE THE ELEMENTS OF THE SUB-LIST 7\n",
            "THESE ARE THE ELEMENTS OF THE SUB-LIST 8\n",
            "THESE ARE THE ELEMENTS OF THE SUB-LIST 9\n"
          ]
        }
      ]
    },
    {
      "cell_type": "markdown",
      "source": [
        "Elchin explanation:\n",
        "Imagine you have 2 cats and you name them i and j  \n",
        "In coding you give the name to your variables, usually we name them i and j in this particular case, like usually you name cats with certain popular names.\n",
        "MMari: 'i' is typically used because i stands for iteration\n",
        "and then the next one is just the next one in the alphabet.\n",
        "Elchin:excellent answer! I will just reveal thai i also stands for index and j is just the next letter in the alphabet (edited)\n"
      ],
      "metadata": {
        "id": "KfwJB48m6amw"
      }
    },
    {
      "cell_type": "code",
      "source": [
        "grade_mapping = [[90, 'A'], [80, 'B'], [70, 'C'], [60, 'D'], [0, 'F']]\n",
        "grade_mapping[0] #[90, 'A']\n",
        "grade_mapping[0][1] #A\n",
        "grade_mapping[3][1] #D"
      ],
      "metadata": {
        "colab": {
          "base_uri": "https://localhost:8080/",
          "height": 35
        },
        "id": "ghhCEMq57Ney",
        "outputId": "efd75f87-fe4e-4353-f042-8baef46205fc"
      },
      "execution_count": null,
      "outputs": [
        {
          "output_type": "execute_result",
          "data": {
            "text/plain": [
              "'D'"
            ],
            "application/vnd.google.colaboratory.intrinsic+json": {
              "type": "string"
            }
          },
          "metadata": {},
          "execution_count": 30
        }
      ]
    },
    {
      "cell_type": "code",
      "source": [
        "student_names = [\"Alice\", \"Bob\", \"Charlie\", \"David\", \"Eva\"]\n",
        "student_scores = [85, 72, 93, 60, 77]"
      ],
      "metadata": {
        "id": "hgguUX4s7x0p"
      },
      "execution_count": null,
      "outputs": []
    },
    {
      "cell_type": "code",
      "source": [
        "#Triin\n",
        "for i in range(len(student_names)):\n",
        "  for threshold, letter_grade in grade_mapping:\n",
        "    if student_scores[i] >= threshold:\n",
        "      print(f\"Hi {student_names[i]}. Your score is {student_scores[i]}. Your grade is {letter_grade}.\")\n",
        "      break"
      ],
      "metadata": {
        "colab": {
          "base_uri": "https://localhost:8080/"
        },
        "id": "RQfUqLLW8ObN",
        "outputId": "1846110b-bb57-47a3-fd76-2480603f872a"
      },
      "execution_count": null,
      "outputs": [
        {
          "output_type": "stream",
          "name": "stdout",
          "text": [
            "Hi Alice. Your score is 85. Your grade is B.\n",
            "Hi Bob. Your score is 72. Your grade is C.\n",
            "Hi Charlie. Your score is 93. Your grade is A.\n",
            "Hi David. Your score is 60. Your grade is D.\n",
            "Hi Eva. Your score is 77. Your grade is C.\n"
          ]
        }
      ]
    },
    {
      "cell_type": "code",
      "source": [
        "#Roberta\n",
        "for i in range(len(student_scores)):\n",
        "  print(student_scores[i])\n",
        "  print(student_names[i])\n",
        "  score = student_scores[i] # THIS IS THE SCORE OF EACH STUDENT SEPARATELY\n",
        "\n",
        "  for number_grade, letter_grade in grade_mapping:\n",
        "\n",
        "    if score >= number_grade:\n",
        "      print(f'Hi, {student_names[i]}, your letter grade is {letter_grade}')\n",
        "      break"
      ],
      "metadata": {
        "colab": {
          "base_uri": "https://localhost:8080/"
        },
        "id": "dXkL1VJf8axU",
        "outputId": "08ec184c-f17f-45dc-d176-c0c2542b73c0"
      },
      "execution_count": null,
      "outputs": [
        {
          "output_type": "stream",
          "name": "stdout",
          "text": [
            "85\n",
            "Alice\n",
            "Hi, Alice, your letter grade is B\n",
            "72\n",
            "Bob\n",
            "Hi, Bob, your letter grade is C\n",
            "93\n",
            "Charlie\n",
            "Hi, Charlie, your letter grade is A\n",
            "60\n",
            "David\n",
            "Hi, David, your letter grade is D\n",
            "77\n",
            "Eva\n",
            "Hi, Eva, your letter grade is C\n"
          ]
        }
      ]
    },
    {
      "cell_type": "code",
      "source": [
        "#MMari\n",
        "student_names = [\"Alice\", \"Bob\", \"Charlie\", \"David\", \"Eva\"]\n",
        "\n",
        "for index, student in enumerate(student_names, start=1):\n",
        "    print(f\"Index number {index} holds the name: {student}\")"
      ],
      "metadata": {
        "colab": {
          "base_uri": "https://localhost:8080/"
        },
        "id": "70cwrlJJ8q0e",
        "outputId": "9f0b93c0-9d44-44ab-c133-d24bc6b0027c"
      },
      "execution_count": null,
      "outputs": [
        {
          "output_type": "stream",
          "name": "stdout",
          "text": [
            "Index number 1 holds the name: Alice\n",
            "Index number 2 holds the name: Bob\n",
            "Index number 3 holds the name: Charlie\n",
            "Index number 4 holds the name: David\n",
            "Index number 5 holds the name: Eva\n"
          ]
        }
      ]
    },
    {
      "cell_type": "code",
      "source": [
        "#Roberta\n",
        "student_names = [\"Alice\", \"Bob\", \"Charlie\", \"David\", \"Eva\"]\n",
        "\n",
        "#ENUMERATE\n",
        "for index, student in enumerate(student_names):\n",
        "  print(f'Student {index}: {student}')\n",
        "\n",
        "#COUNTER\n",
        "counter = 0 #INITIALIZE THE COUNTER\n",
        "for student in student_names:\n",
        "  print(f'Student {counter}: {student}')\n",
        "  counter = counter + 1\n",
        "\n",
        "#RANGE\n",
        "for i in range(len(student_names)):\n",
        "  print(f'Student {i}: {student_names[i]}')"
      ],
      "metadata": {
        "colab": {
          "base_uri": "https://localhost:8080/"
        },
        "id": "nQ1MS5MvjChE",
        "outputId": "70e0c660-4921-4206-c523-df5d0fb60145"
      },
      "execution_count": null,
      "outputs": [
        {
          "output_type": "stream",
          "name": "stdout",
          "text": [
            "Student 0: Alice\n",
            "Student 1: Bob\n",
            "Student 2: Charlie\n",
            "Student 3: David\n",
            "Student 4: Eva\n",
            "Student 0: Alice\n",
            "Student 1: Bob\n",
            "Student 2: Charlie\n",
            "Student 3: David\n",
            "Student 4: Eva\n",
            "Student 0: Alice\n",
            "Student 1: Bob\n",
            "Student 2: Charlie\n",
            "Student 3: David\n",
            "Student 4: Eva\n"
          ]
        }
      ]
    },
    {
      "cell_type": "code",
      "source": [
        "#TEST\n",
        "numbers = [1, 2, 3, 4, 1, 2, 1, 1]\n",
        "target_number = 3\n",
        "count = numbers.count(target_number)\n",
        "print(count)"
      ],
      "metadata": {
        "colab": {
          "base_uri": "https://localhost:8080/"
        },
        "id": "MRMxiHuyCqjh",
        "outputId": "283c5545-dd1d-4fba-b8ba-fecf3241e9c3"
      },
      "execution_count": null,
      "outputs": [
        {
          "output_type": "stream",
          "name": "stdout",
          "text": [
            "1\n"
          ]
        }
      ]
    },
    {
      "cell_type": "code",
      "source": [
        "#TEST\n",
        "except = [1,2,3]\n",
        "\n",
        "print(except)"
      ],
      "metadata": {
        "colab": {
          "base_uri": "https://localhost:8080/",
          "height": 106
        },
        "id": "vKgvyKr5C3g2",
        "outputId": "f365e5fb-26af-43b4-babe-e3a669131cbb"
      },
      "execution_count": null,
      "outputs": [
        {
          "output_type": "error",
          "ename": "SyntaxError",
          "evalue": "invalid syntax (<ipython-input-40-2e6d9c3d13f2>, line 2)",
          "traceback": [
            "\u001b[0;36m  File \u001b[0;32m\"<ipython-input-40-2e6d9c3d13f2>\"\u001b[0;36m, line \u001b[0;32m2\u001b[0m\n\u001b[0;31m    except = [1,2,3]\u001b[0m\n\u001b[0m    ^\u001b[0m\n\u001b[0;31mSyntaxError\u001b[0m\u001b[0;31m:\u001b[0m invalid syntax\n"
          ]
        }
      ]
    },
    {
      "cell_type": "markdown",
      "source": [
        "Team work: Review what different methods are built in for STRING objects.\n",
        "\n",
        "Write a program with for loop and list where user needs to input a STRING value, and program needs to check if the value is in the list. Use string methods to standardize the user input."
      ],
      "metadata": {
        "id": "DdMgDT3z9UfY"
      }
    }
  ]
}