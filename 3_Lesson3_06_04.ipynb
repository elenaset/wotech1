{
  "nbformat": 4,
  "nbformat_minor": 0,
  "metadata": {
    "colab": {
      "provenance": [],
      "authorship_tag": "ABX9TyNC1HLGX+ylWnTWKG4hm2kr",
      "include_colab_link": true
    },
    "kernelspec": {
      "name": "python3",
      "display_name": "Python 3"
    },
    "language_info": {
      "name": "python"
    }
  },
  "cells": [
    {
      "cell_type": "markdown",
      "metadata": {
        "id": "view-in-github",
        "colab_type": "text"
      },
      "source": [
        "<a href=\"https://colab.research.google.com/github/elenaset/wotech1/blob/main/3_Lesson3_06_04.ipynb\" target=\"_parent\"><img src=\"https://colab.research.google.com/assets/colab-badge.svg\" alt=\"Open In Colab\"/></a>"
      ]
    },
    {
      "cell_type": "code",
      "execution_count": null,
      "metadata": {
        "id": "y7nsxUzrPTmv",
        "colab": {
          "base_uri": "https://localhost:8080/"
        },
        "outputId": "fe8f77c4-0ffe-4d3a-9bec-00958cc10efd"
      },
      "outputs": [
        {
          "output_type": "stream",
          "name": "stdout",
          "text": [
            "True\n",
            "False\n"
          ]
        }
      ],
      "source": [
        "# Equal\n",
        "x = 5  #ASSIGN A VARIABLE\n",
        "y = 5\n",
        "print(x == y)\n",
        "print('1'== 1)"
      ]
    },
    {
      "cell_type": "code",
      "source": [
        "#Not equal\n",
        "print(x != y)"
      ],
      "metadata": {
        "colab": {
          "base_uri": "https://localhost:8080/"
        },
        "id": "GwWgJ2p_Xxzr",
        "outputId": "6388c5e6-4afd-4d33-98c0-fed2fd4a01f4"
      },
      "execution_count": null,
      "outputs": [
        {
          "output_type": "stream",
          "name": "stdout",
          "text": [
            "False\n"
          ]
        }
      ]
    },
    {
      "cell_type": "code",
      "source": [
        "#Graether than\n",
        "print(x > 2)"
      ],
      "metadata": {
        "colab": {
          "base_uri": "https://localhost:8080/"
        },
        "id": "k6NhHbF0Yod0",
        "outputId": "3b93fb8e-42d9-40ed-c50b-3038e06d34c6"
      },
      "execution_count": null,
      "outputs": [
        {
          "output_type": "stream",
          "name": "stdout",
          "text": [
            "True\n"
          ]
        }
      ]
    },
    {
      "cell_type": "code",
      "source": [
        "#Less than\n",
        "print(x < 10)"
      ],
      "metadata": {
        "colab": {
          "base_uri": "https://localhost:8080/"
        },
        "id": "_TP37HUhYzgr",
        "outputId": "85ba9cc4-d0c8-4508-9851-261f3b4fde8a"
      },
      "execution_count": null,
      "outputs": [
        {
          "output_type": "stream",
          "name": "stdout",
          "text": [
            "True\n"
          ]
        }
      ]
    },
    {
      "cell_type": "code",
      "source": [],
      "metadata": {
        "id": "qE4IB9pycMcy"
      },
      "execution_count": null,
      "outputs": []
    },
    {
      "cell_type": "code",
      "source": [
        "#if else statements\n",
        "x = 100\n",
        "\n",
        "if x < 50:\n",
        "  print( 'Less than 50 ' )\n",
        "else:\n",
        "  print('More than or equal to 50')\n",
        "\n"
      ],
      "metadata": {
        "colab": {
          "base_uri": "https://localhost:8080/"
        },
        "id": "u564onJlc93H",
        "outputId": "797519c8-7927-4eef-89ce-c9e40464d131"
      },
      "execution_count": null,
      "outputs": [
        {
          "output_type": "stream",
          "name": "stdout",
          "text": [
            "More than or equal to 50\n"
          ]
        }
      ]
    },
    {
      "cell_type": "code",
      "source": [
        "a = 20\n",
        "if a > 10:\n",
        "  print('a is above 10')\n",
        "  print('this is in the a block')\n",
        "print('this is outside a block')"
      ],
      "metadata": {
        "colab": {
          "base_uri": "https://localhost:8080/"
        },
        "id": "rBH7uB-CcVzN",
        "outputId": "591650db-c466-4883-f9d3-4940b060c9a8"
      },
      "execution_count": null,
      "outputs": [
        {
          "output_type": "stream",
          "name": "stdout",
          "text": [
            "a is above 10\n",
            "this is in the a block\n",
            "this is outside a block\n"
          ]
        }
      ]
    },
    {
      "cell_type": "code",
      "source": [
        "age = 19\n",
        "if age >= 18:\n",
        "  print('You are eligible to vote')\n",
        "  print('Please preceed to the voting booth')\n",
        "else:\n",
        "  print(\"You are NOT eligible to vote\")\n",
        "print(\"Thank you for participating\")"
      ],
      "metadata": {
        "colab": {
          "base_uri": "https://localhost:8080/"
        },
        "id": "nmz-3w9_ci_t",
        "outputId": "971cbee6-6507-4c6a-e7e7-a52eeec95071"
      },
      "execution_count": null,
      "outputs": [
        {
          "output_type": "stream",
          "name": "stdout",
          "text": [
            "You are eligible to vote\n",
            "Please preceed to the voting booth\n",
            "Thank you for participating\n"
          ]
        }
      ]
    },
    {
      "cell_type": "code",
      "source": [
        "age = int(input('How old are you?: '))\n",
        "if age >= 18:\n",
        "  print('You are eligible to vote')\n",
        "  print('Please preceed to the voting booth')\n",
        "else:\n",
        "  print(\"You are NOT eligible to vote\")\n",
        "print(\"Thank you for participating\")"
      ],
      "metadata": {
        "colab": {
          "base_uri": "https://localhost:8080/"
        },
        "id": "x-hKb3KEc7QD",
        "outputId": "548cdece-d0ff-42e5-f281-c29c538fd9a1"
      },
      "execution_count": null,
      "outputs": [
        {
          "output_type": "stream",
          "name": "stdout",
          "text": [
            "How old are you?: 15\n",
            "You are NOT eligible to vote\n",
            "Thank you for participating\n"
          ]
        }
      ]
    },
    {
      "cell_type": "code",
      "source": [
        "age = int(input('How old are you?: '))\n",
        "if age >= 18:\n",
        "  print('You are eligible to vote')\n",
        "  print('Please preceed to the voting booth')\n",
        "else:\n",
        "  print(\"You are NOT eligible to vote\")\n",
        "print(\"Thank you for participating\")"
      ],
      "metadata": {
        "colab": {
          "base_uri": "https://localhost:8080/"
        },
        "id": "87DnBRc_dVkD",
        "outputId": "a5cc5db2-257c-4450-ef87-249955455377"
      },
      "execution_count": null,
      "outputs": [
        {
          "output_type": "stream",
          "name": "stdout",
          "text": [
            "How old are you?: 20\n",
            "You are eligible to vote\n",
            "Please preceed to the voting booth\n",
            "Thank you for participating\n"
          ]
        }
      ]
    },
    {
      "cell_type": "code",
      "source": [
        "number = int(input('Enter a number: '))\n",
        "\n",
        "# % means can be divided\n",
        "# check if the number is even or odd\n",
        "if number % 2 == 0:  #MODULUS OPERATIONS\n",
        "  print(f'The number {number} is even!')\n",
        "else:\n",
        "  print(f'The number {number} is odd!')\n"
      ],
      "metadata": {
        "colab": {
          "base_uri": "https://localhost:8080/"
        },
        "id": "05qA6vd4QINF",
        "outputId": "53914d1e-2b74-4147-d979-2318f9ac2764"
      },
      "execution_count": null,
      "outputs": [
        {
          "output_type": "stream",
          "name": "stdout",
          "text": [
            "Enter a number: 10\n",
            "The number 10 is even!\n"
          ]
        }
      ]
    },
    {
      "cell_type": "code",
      "source": [],
      "metadata": {
        "id": "rC6EUwQbSP9l"
      },
      "execution_count": null,
      "outputs": []
    },
    {
      "cell_type": "markdown",
      "source": [
        "Payment approval"
      ],
      "metadata": {
        "id": "boXaXCO0STjG"
      }
    },
    {
      "cell_type": "code",
      "source": [
        "# If the transaction can be done based on the account balance\n"
      ],
      "metadata": {
        "id": "h8lmFWftSoxc"
      },
      "execution_count": null,
      "outputs": []
    },
    {
      "cell_type": "code",
      "source": [
        "account_balance = float(input(\"Enter your account balance: \"))\n",
        "transaction_amount = float(input(\"Enter the transaction amount \"))\n",
        "\n",
        "if account_balance >= transaction_amount:\n",
        "  print(\"Payment approved!\")\n",
        "else:\n",
        "  print('Insufficient funds!')"
      ],
      "metadata": {
        "colab": {
          "base_uri": "https://localhost:8080/"
        },
        "id": "U8nms2l_SkV3",
        "outputId": "899eee1e-8354-4249-981d-e95a4db3011e"
      },
      "execution_count": null,
      "outputs": [
        {
          "output_type": "stream",
          "name": "stdout",
          "text": [
            "Enter your account balance: 100\n",
            "Enter the transaction amount 120\n",
            "Insufficient funds!\n"
          ]
        }
      ]
    },
    {
      "cell_type": "code",
      "source": [
        "account_balance = float(input(\"Enter your account balance: \"))\n",
        "transaction_amount = float(input(\"Enter the transaction amount \"))\n",
        "\n",
        "if account_balance >= transaction_amount:\n",
        "  print(\"Payment approved!\")\n",
        "else:\n",
        "  print('Insufficient funds!')\n"
      ],
      "metadata": {
        "colab": {
          "base_uri": "https://localhost:8080/"
        },
        "id": "vXjcFDv8Uifj",
        "outputId": "d7e4f057-2f37-4ef9-d182-a6038494079f"
      },
      "execution_count": null,
      "outputs": [
        {
          "output_type": "stream",
          "name": "stdout",
          "text": [
            "Enter your account balance: 100\n",
            "Enter the transaction amount 70\n",
            "Payment approved!\n"
          ]
        }
      ]
    },
    {
      "cell_type": "markdown",
      "source": [
        "#Access management system"
      ],
      "metadata": {
        "id": "H78VpZAbZoCd"
      }
    },
    {
      "cell_type": "code",
      "source": [
        "#check if username and passord matches stored username and password\n",
        "#If yes you get access to the system\n",
        "#username\n",
        "#password\n",
        "\n",
        "username = input('Enter your username: ')\n",
        "password = input('Enter your password: ')\n",
        "\n",
        "STORED_USERNAME = 'user123'\n",
        "STORED_PASSWORD = 'pass123'\n",
        "\n",
        "\n",
        "if STORED_USERNAME == \"user123\" and STORED_PASSWORD == \"pass123\":\n",
        "  print(\"Access provided.\")\n",
        "else:\n",
        "  print(\"Access denied.\")"
      ],
      "metadata": {
        "colab": {
          "base_uri": "https://localhost:8080/"
        },
        "id": "slVF0_uwSWoj",
        "outputId": "e5d39513-310e-484a-9785-6f55ebd7040c"
      },
      "execution_count": null,
      "outputs": [
        {
          "output_type": "stream",
          "name": "stdout",
          "text": [
            "Enter your username: user123\n",
            "Enter your password: pass123\n",
            "Access provided.\n"
          ]
        }
      ]
    },
    {
      "cell_type": "code",
      "source": [
        "username = input('Enter your username: ')\n",
        "password = input('Enter your password: ')\n",
        "\n",
        "STORED_USERNAME = 'user123'\n",
        "STORED_PASSWORD = 'pass123'\n",
        "\n",
        "# AND OR\n",
        "if username == STORED_USERNAME and password == STORED_PASSWORD:\n",
        "  print(\"Access provided.\")\n",
        "else:\n",
        "  print(\"Access denied.\")"
      ],
      "metadata": {
        "colab": {
          "base_uri": "https://localhost:8080/"
        },
        "id": "H3vkZjOYbgfN",
        "outputId": "94e7dab9-728e-4a9d-cd4b-ac175b906b4f"
      },
      "execution_count": null,
      "outputs": [
        {
          "output_type": "stream",
          "name": "stdout",
          "text": [
            "Enter your username: user124\n",
            "Enter your password: pass123\n",
            "Access denied.\n"
          ]
        }
      ]
    },
    {
      "cell_type": "code",
      "source": [
        "STORED_USERNAME = 'user123'\n",
        "STORED_PASSWORD = 'pass123'\n",
        "\n",
        "input_username = input('Username: ')\n",
        "input_password = input('Password: ')\n",
        "\n",
        "if (input_username == STORED_USERNAME) & (input_password == STORED_PASSWORD):\n",
        "    print('Welcome!')\n",
        "else:\n",
        "    print('Wrong username or password!')"
      ],
      "metadata": {
        "colab": {
          "base_uri": "https://localhost:8080/"
        },
        "id": "A05K8SfUcgy7",
        "outputId": "594e8ec8-28f7-48df-a5b1-ff31d27a858f"
      },
      "execution_count": null,
      "outputs": [
        {
          "output_type": "stream",
          "name": "stdout",
          "text": [
            "Username: user123\n",
            "Password: pass123\n",
            "Welcome!\n"
          ]
        }
      ]
    },
    {
      "cell_type": "code",
      "source": [
        "s"
      ],
      "metadata": {
        "id": "tJBb6SKMcxey"
      },
      "execution_count": null,
      "outputs": []
    },
    {
      "cell_type": "code",
      "source": [
        "STORED_USERNAME = 'use123'\n",
        "STORED_PASSWORD = 'pass123'\n",
        "\n",
        "username = (input('Enter username: '))\n",
        "if username == STORED_USERNAME:\n",
        "  print('Correct username')\n",
        "else:\n",
        "  print('incorrect username')\n",
        "\n",
        "password = (input('Enter password: '))\n",
        "if password == STORED_PASSWORD:\n",
        "  print('You are logged in')\n",
        "else:\n",
        "  print('No access')"
      ],
      "metadata": {
        "colab": {
          "base_uri": "https://localhost:8080/"
        },
        "id": "LaudJzCvcql8",
        "outputId": "f2244c59-1281-43f9-9ac7-705e93bc841c"
      },
      "execution_count": null,
      "outputs": [
        {
          "output_type": "stream",
          "name": "stdout",
          "text": [
            "Enter username: 1477\n",
            "incorrect username\n",
            "Enter password: pass123\n",
            "You are logged in\n"
          ]
        }
      ]
    },
    {
      "cell_type": "code",
      "source": [
        "STORED_USERNAME ='user123'\n",
        "STORED_PASSWORD = 'pass123'\n",
        "\n",
        "name = input('Please enter your username: ')\n",
        "password = input('Please enter your password: ')\n",
        "\n",
        "if name == STORED_USERNAME and password == STORED_PASSWORD:\n",
        "  print('You can log in!')\n",
        "else:\n",
        "  print('Your username or password is inncorect!')"
      ],
      "metadata": {
        "colab": {
          "base_uri": "https://localhost:8080/"
        },
        "id": "Wen50xNudGE3",
        "outputId": "f24ebb02-b0a9-4fcf-dc0c-d8c62d640f43"
      },
      "execution_count": null,
      "outputs": [
        {
          "output_type": "stream",
          "name": "stdout",
          "text": [
            "Please enter your username: user123\n",
            "Please enter your password: pass124\n",
            "Your username or password is inncorect!\n"
          ]
        }
      ]
    },
    {
      "cell_type": "code",
      "source": [
        "STORED_USERNAME = 'user123'\n",
        "STORED_PASSWORD = 'pass123'\n",
        "\n",
        "input_username = input('Enter username: ')\n",
        "input_password = input('Enter password: ')\n",
        "\n",
        "\n",
        "if input_username == STORED_USERNAME and input_password == STORED_PASSWORD:\n",
        "  print('You have access to the system!')\n",
        "\n",
        "else:\n",
        "  print('You do not have access to the system!')"
      ],
      "metadata": {
        "colab": {
          "base_uri": "https://localhost:8080/"
        },
        "id": "znpAgDIudSLp",
        "outputId": "ac8bd9cf-1368-4513-aa5e-e5666177ea02"
      },
      "execution_count": null,
      "outputs": [
        {
          "output_type": "stream",
          "name": "stdout",
          "text": [
            "Enter username: user123\n",
            "Enter password: pass123\n",
            "You have access to the system!\n"
          ]
        }
      ]
    },
    {
      "cell_type": "code",
      "source": [
        "stored_username = \"useer123\"\n",
        "stored_password = \"pass123\"\n",
        "username = input(\"enter your user name: \")\n",
        "\n",
        "if username == stored_username:\n",
        "  password = input(\"enter your password\")\n",
        "  if password == stored_password:\n",
        "    print(\"you have the access\")\n",
        "  else:\n",
        "    print(\"incorrect password\")\n",
        "else:\n",
        "  print(\"incorrect user name\")"
      ],
      "metadata": {
        "colab": {
          "base_uri": "https://localhost:8080/"
        },
        "id": "AcQA_-nNdkZx",
        "outputId": "9fbf3cdd-dcaf-45a0-c0a0-1d1a9619b007"
      },
      "execution_count": null,
      "outputs": [
        {
          "output_type": "stream",
          "name": "stdout",
          "text": [
            "enter your user name: useer123\n",
            "enter your passwordpass124\n",
            "incorrect password\n"
          ]
        }
      ]
    },
    {
      "cell_type": "code",
      "source": [
        "STORED_USERNAME = 'user123'\n",
        "STORED_PASSWORD = 'pass123'\n",
        "\n",
        "if STORED_USERNAME == 'user123' and STORED_PASSWORD == 'pass123':\n",
        "  print('You have access to the system')\n",
        "if STORED_USERNAME == 'user123' and STORED_PASSWORD != 'pass123':\n",
        "  print('Wrong password')\n",
        "if STORED_USERNAME != 'user123' and STORED_PASSWORD == 'pass123':\n",
        "  print('Wrong username')\n",
        "if STORED_USERNAME != 'user123' and STORED_PASSWORD != 'pass123':\n",
        "  print('Wrong username and password')"
      ],
      "metadata": {
        "colab": {
          "base_uri": "https://localhost:8080/"
        },
        "id": "vLSkU6Tvd9ct",
        "outputId": "95af70ae-f452-4b7f-de0b-d00a5d983ef8"
      },
      "execution_count": null,
      "outputs": [
        {
          "output_type": "stream",
          "name": "stdout",
          "text": [
            "You have access to the system\n"
          ]
        }
      ]
    },
    {
      "cell_type": "code",
      "source": [
        "STORED_USERNAME = 'user123' #hardcoded variables with capital letters\n",
        "STORED_PASSWORD = 'psw123'\n",
        "\n",
        "username = (input('Enter your username: '))\n",
        "password = (input('Enter your password: '))\n",
        "\n",
        "if username == STORED_USERNAME and password == STORED_PASSWORD:\n",
        "  print('you are logged in')\n",
        "elif username != STORED_USERNAME:\n",
        "  print('incorrect username')\n",
        "elif password != STORED_PASSWORD:\n",
        "  print('incorrect password')"
      ],
      "metadata": {
        "colab": {
          "base_uri": "https://localhost:8080/"
        },
        "id": "kjQBiEZQeNn0",
        "outputId": "ade41225-59ea-4a50-d9a8-24d0a4a27aa4"
      },
      "execution_count": null,
      "outputs": [
        {
          "output_type": "stream",
          "name": "stdout",
          "text": [
            "Enter your username: user123\n",
            "Enter your password: psw124\n",
            "incorrect password\n"
          ]
        }
      ]
    },
    {
      "cell_type": "code",
      "source": [
        "STORED_USERNAME = 'user123' #hardcore\n",
        "STORED_PASSWORD = 'pass123'\n",
        "\n",
        "username = input(\"Insert username: \")\n",
        "password = input(\"Insert password: \")\n",
        "\n",
        "if username == STORED_USERNAME and password == STORED_PASSWORD:\n",
        "  print(\"Log in completed!\")\n",
        "else:\n",
        "  print(\"Log in denied!\")"
      ],
      "metadata": {
        "colab": {
          "base_uri": "https://localhost:8080/"
        },
        "id": "h3Zzh3CaengL",
        "outputId": "b60abc0b-8995-46a8-968a-c88b6dae2868"
      },
      "execution_count": null,
      "outputs": [
        {
          "output_type": "stream",
          "name": "stdout",
          "text": [
            "Insert username: user123\n",
            "Insert password: pass123\n",
            "Log in completed!\n"
          ]
        }
      ]
    },
    {
      "cell_type": "code",
      "source": [
        "STORED_USERNAME = 'user123'\n",
        "STORED_PASSWORD = 'pass123'\n",
        "\n",
        "input_username = input('Write your username: ')\n",
        "input_password = input('Write your password: ')\n",
        "\n",
        "if input_username == STORED_USERNAME and input_password == STORED_PASSWORD:\n",
        "    print('Username and Password match.')\n",
        "    print('You get access to the system!')\n",
        "    print('Congratulations!')\n",
        "else:\n",
        "    print('Username and Password do not match.')\n",
        "    print('You do not get access to the system.')\n",
        "    print('Maybe next time!')"
      ],
      "metadata": {
        "colab": {
          "base_uri": "https://localhost:8080/"
        },
        "id": "FVm95jTfe5WE",
        "outputId": "7d516353-be21-4f72-83ca-adc6bdf0b6ba"
      },
      "execution_count": null,
      "outputs": [
        {
          "output_type": "stream",
          "name": "stdout",
          "text": [
            "Write your username: user123\n",
            "Write your password: pass123\n",
            "Username and Password match.\n",
            "You get access to the system!\n",
            "Congratulations!\n"
          ]
        }
      ]
    },
    {
      "cell_type": "code",
      "source": [
        "STORED_USERNAME = 'user123'\n",
        "STORED_PASSWORD = 'pass123'\n",
        "\n",
        "login = input('Enter Username: ')\n",
        "password = input('Enter Password: ')\n",
        "\n",
        "if login == STORED_USERNAME and  password == STORED_PASSWORD :\n",
        "  print ('You are login!')\n",
        "else:\n",
        "  print ('You don not have access. PLease check username and paswwrod is this correct')"
      ],
      "metadata": {
        "colab": {
          "base_uri": "https://localhost:8080/"
        },
        "id": "vbf9lO2CfIel",
        "outputId": "ee197640-57d8-49aa-8f7c-c18e90375667"
      },
      "execution_count": null,
      "outputs": [
        {
          "output_type": "stream",
          "name": "stdout",
          "text": [
            "Enter Username: user123\n",
            "Enter Password: pass124\n",
            "You don not have access. PLease check username and paswwrod is this correct\n"
          ]
        }
      ]
    },
    {
      "cell_type": "code",
      "source": [
        "stored_username = 'user123'\n",
        "stored_password = 'pass123'\n",
        "\n",
        "entered_username = input('Enter your username: ')\n",
        "entered_password = input('Enter your password: ')\n",
        "\n",
        "if stored_username == entered_username and stored_password == entered_password:\n",
        "  print('You are successfully logged in!')\n",
        "else:\n",
        "  print('Please try again because:')\n",
        "if stored_username != entered_username and stored_password != entered_password:\n",
        "  print('You have entered wrong username and password')\n",
        "if stored_username != entered_username and stored_password == entered_password:\n",
        "  print('You have entered the wrong username')\n",
        "if stored_username == entered_username and stored_password != entered_password:\n",
        "  print('You have entered the wrong password')"
      ],
      "metadata": {
        "colab": {
          "base_uri": "https://localhost:8080/"
        },
        "id": "YYJK3JcIfU9m",
        "outputId": "cc43c054-c0d5-4e1e-9015-222e839eba39"
      },
      "execution_count": null,
      "outputs": [
        {
          "output_type": "stream",
          "name": "stdout",
          "text": [
            "Enter your username: user124\n",
            "Enter your password: pass124\n",
            "Please try again because:\n",
            "You have entered wrong username and password\n"
          ]
        }
      ]
    },
    {
      "cell_type": "markdown",
      "source": [
        "#Multi way decision"
      ],
      "metadata": {
        "id": "1GYJ9fTGgvRX"
      }
    },
    {
      "cell_type": "code",
      "source": [
        "#Multi way decision\n",
        "\n",
        "x = 2\n",
        "if x < 5:\n",
        "    print ('small')\n",
        "elif x < 15:  #els if\n",
        "    print('Medium')\n",
        "else:\n",
        "    print('Large')\n",
        "\n",
        "print('All done')\n",
        "\n"
      ],
      "metadata": {
        "colab": {
          "base_uri": "https://localhost:8080/"
        },
        "id": "BmO3S8ezcQcm",
        "outputId": "127a42c6-468e-4098-c42c-0442e2ba831e"
      },
      "execution_count": null,
      "outputs": [
        {
          "output_type": "stream",
          "name": "stdout",
          "text": [
            "small\n",
            "All done\n"
          ]
        }
      ]
    },
    {
      "cell_type": "markdown",
      "source": [
        "# Grading"
      ],
      "metadata": {
        "id": "51qmSN1yhG56"
      }
    },
    {
      "cell_type": "code",
      "source": [
        "#Grading in scale 100, convert 100 to ABCDEF\n",
        "\n",
        "score = int(input(\"Enter your score: \"))\n",
        "\n",
        "if score >= 90:\n",
        "  print(\"A\")\n",
        "elif score >= 80:\n",
        "  print(\"B\")\n",
        "elif score >= 70:\n",
        "  print(\"C\")\n",
        "elif score >= 60:\n",
        "  print(\"D\")\n",
        "elif score >= 50:\n",
        "  print(\"E\")\n",
        "else:\n",
        "  print(\"F\")"
      ],
      "metadata": {
        "colab": {
          "base_uri": "https://localhost:8080/"
        },
        "id": "z6OomSrNhJD2",
        "outputId": "dc30ccde-7d1e-4fcb-d0a4-c7ce415a0ed5"
      },
      "execution_count": null,
      "outputs": [
        {
          "output_type": "stream",
          "name": "stdout",
          "text": [
            "Enter your score: 98\n",
            "A\n"
          ]
        }
      ]
    },
    {
      "cell_type": "code",
      "source": [
        "score = int(input('Enter your score: '))\n",
        "\n",
        "if score >= 90:\n",
        "  print('Your grade is A')\n",
        "elif score >= 80:\n",
        "  print('Your grade is B')\n",
        "elif score >= 70:\n",
        "  print('Your grade is C')\n",
        "elif score >= 60:\n",
        "  print('Your grade is D')\n",
        "else:\n",
        "  print('Your grade is F')"
      ],
      "metadata": {
        "colab": {
          "base_uri": "https://localhost:8080/"
        },
        "id": "Bw4B03FYh1Y9",
        "outputId": "22094199-111f-4225-f903-62aee72bda0d"
      },
      "execution_count": null,
      "outputs": [
        {
          "output_type": "stream",
          "name": "stdout",
          "text": [
            "Enter your score: 89\n",
            "Your grade is B\n"
          ]
        }
      ]
    },
    {
      "cell_type": "code",
      "source": [
        "score = int(input('Enter your score: '))\n",
        "\n",
        "if score > 90:\n",
        "    grade = 'A'\n",
        "elif score > 80:\n",
        "    grade = 'B'\n",
        "elif score > 70:\n",
        "    grade = 'C'\n",
        "elif score > 60:\n",
        "    grade = 'D'\n",
        "elif score > 50:\n",
        "    grade = 'E'\n",
        "else:\n",
        "    grade = 'F'\n",
        "\n",
        "print(f'Your grade is {grade}')"
      ],
      "metadata": {
        "colab": {
          "base_uri": "https://localhost:8080/"
        },
        "id": "IFaovnaOiA6K",
        "outputId": "659e33fe-1a72-4153-92a4-6f7299d01595"
      },
      "execution_count": null,
      "outputs": [
        {
          "output_type": "stream",
          "name": "stdout",
          "text": [
            "Enter your score: 98\n",
            "Your grade is A\n"
          ]
        }
      ]
    },
    {
      "cell_type": "code",
      "source": [
        "score = int(input('Enter your score: '))\n",
        "\n",
        "# Define grade boundaries and corresponding grades\n",
        "grade_boundaries = {\n",
        "    90: 'A',\n",
        "    80: 'B',\n",
        "    70: 'C',\n",
        "    60: 'D',\n",
        "    50: 'E'\n",
        "}\n",
        "\n",
        "# Find the grade by iterating through the boundaries\n",
        "for boundary, grade in grade_boundaries.items():\n",
        "    if score > boundary:\n",
        "        break\n",
        "else:\n",
        "    grade = 'F'\n",
        "\n",
        "print(f'Your grade is {grade}')"
      ],
      "metadata": {
        "colab": {
          "base_uri": "https://localhost:8080/"
        },
        "id": "ddC5vH7zi94l",
        "outputId": "f41f375c-343a-40ce-c6ea-d90a2df00ce9"
      },
      "execution_count": null,
      "outputs": [
        {
          "output_type": "stream",
          "name": "stdout",
          "text": [
            "Enter your score: 95\n",
            "Your grade is A\n"
          ]
        }
      ]
    },
    {
      "cell_type": "code",
      "source": [
        "score = int(input('Enter your score: '))\n",
        "if score >= 90:\n",
        "  print('our graede is A! Good job!')\n",
        "elif score >= 80:\n",
        "  print('You got an B!')\n",
        "elif score >= 70:\n",
        "  print('You got an C!')\n",
        "elif score >= 60:\n",
        "  print('You got an D!')\n",
        "elif score >= 50:\n",
        "  print('You got an E!')\n",
        "else:\n",
        "        print('you failed, try again!')"
      ],
      "metadata": {
        "colab": {
          "base_uri": "https://localhost:8080/"
        },
        "id": "ny24UydCjKwC",
        "outputId": "baf34dc1-7e47-4465-a261-7244a76c6aad"
      },
      "execution_count": null,
      "outputs": [
        {
          "output_type": "stream",
          "name": "stdout",
          "text": [
            "Enter your score: 48\n",
            "you failed, try again!\n"
          ]
        }
      ]
    },
    {
      "cell_type": "markdown",
      "source": [
        "Score can be only number, cant write text.\n",
        "Use TRY and EXCEPT for to print 'Wrong input!'"
      ],
      "metadata": {
        "id": "7ppm3x8IjjjY"
      }
    },
    {
      "cell_type": "code",
      "source": [
        "try:\n",
        "  score = int(input('Enter your score: '))\n",
        "\n",
        "  if score >= 90:\n",
        "    print('Your grade is A!')\n",
        "  elif score >= 80:\n",
        "    print('Your grade is B!')\n",
        "  elif score >= 70:\n",
        "    print('Your grade is C!')\n",
        "  elif score >= 60:\n",
        "    print('Your grade is D!')\n",
        "  elif score >= 50:\n",
        "    print('Your grade is E!')\n",
        "  else:\n",
        "    print('Your grade is F!')\n",
        "except:\n",
        "  print('Wrong input!')\n"
      ],
      "metadata": {
        "colab": {
          "base_uri": "https://localhost:8080/"
        },
        "id": "BuLk8KgIj_y-",
        "outputId": "039e0f2a-e081-4b49-b860-148e21258d02"
      },
      "execution_count": null,
      "outputs": [
        {
          "output_type": "stream",
          "name": "stdout",
          "text": [
            "Enter your score: A\n",
            "Wrong input!\n"
          ]
        }
      ]
    },
    {
      "cell_type": "code",
      "source": [
        "try: ##highlight code block and click \"tab\"\n",
        "\n",
        "  score = int(input(\"Enter your score: \"))\n",
        "\n",
        "  if score >= 90:\n",
        "    print(\"Your grade is A!\")\n",
        "  elif score >= 80:\n",
        "    print(\"Your grade is B!\")\n",
        "  elif score >= 70:\n",
        "    print(\"Your grade is C!\")\n",
        "  elif score >= 60:\n",
        "    print(\"Your grade is D!\")\n",
        "  elif score >= 50 and score < 60:\n",
        "    print(\"Your grade is E!\")\n",
        "  else:\n",
        "    print(\"Your grade is F!\")\n",
        "\n",
        "except: ##if try gets wrong input - for example somebody writes their name over grade, it will come here\n",
        "  print(\"Wrong input!\")"
      ],
      "metadata": {
        "colab": {
          "base_uri": "https://localhost:8080/"
        },
        "id": "O2yyIzclnIvw",
        "outputId": "e390ffd3-bb03-4b52-f870-bb4aaf61d205"
      },
      "execution_count": null,
      "outputs": [
        {
          "output_type": "stream",
          "name": "stdout",
          "text": [
            "Enter your score: c\n",
            "Wrong input!\n"
          ]
        }
      ]
    },
    {
      "cell_type": "code",
      "source": [
        "try: ##highlight code block and click \"tab\"\n",
        "\n",
        "  score = int(input(\"Enter your score: \"))\n",
        "\n",
        "  if score >= 90:\n",
        "    print(\"Your grade is A!\")\n",
        "  elif score >= 80:\n",
        "    print(\"Your grade is B!\")\n",
        "  elif score >= 70:\n",
        "    print(\"Your grade is C!\")\n",
        "  elif score >= 60:\n",
        "    print(\"Your grade is D!\")\n",
        "  elif score >= 50 and score < 60:\n",
        "    print(\"Your grade is E!\")\n",
        "  else:\n",
        "    print(\"Your grade is F!\")\n",
        "\n",
        "except: ##if try gets wrong input - for example somebody writes their name over grade, it will come here\n",
        "  print(\"Wrong input!\")\n"
      ],
      "metadata": {
        "colab": {
          "base_uri": "https://localhost:8080/"
        },
        "id": "PPHwN91tl-ea",
        "outputId": "281bc29c-093c-4a78-c48c-7d505fe47ab7"
      },
      "execution_count": null,
      "outputs": [
        {
          "output_type": "stream",
          "name": "stdout",
          "text": [
            "Enter your score: 48\n",
            "Your grade is F!\n"
          ]
        }
      ]
    },
    {
      "cell_type": "markdown",
      "source": [
        "Create a Python program for temperature conversion between Celsius and Fahrenheit scales. The program should prompt users to select the direction of conversion, accept input for the temperature value, and accurately perform the conversion (use IF and/or ELSE). Output should be displayed with formatted strings showing both the original and converted temperatures."
      ],
      "metadata": {
        "id": "6uSdeO-jmn7w"
      }
    },
    {
      "cell_type": "code",
      "source": [
        "print('Temperature Conversion Calculator')\n",
        "print()\n",
        "print('To convert from Celsius to Farenheit please type: F')\n",
        "print('To convert from Farenheit to Celsius please type: C')\n",
        "\n",
        "try:\n",
        "\n",
        "  temp_scale = input('Please choose the conversion: ')\n",
        "\n",
        "  if temp_scale == 'F':\n",
        "    degC = float(input('Please enter the temperature in °C: '))\n",
        "    degF = round((degC * 9/5 + 32), 1)\n",
        "    print(f'Temperature in Celsius: {degC}°C\\nTemperature in Fahrenheit: {degF}°F')\n",
        "  elif temp_scale == 'C':\n",
        "    degF = float(input('Please enter the temperature in °F: '))\n",
        "    degC = round((5/9 * (degF - 32)), 1)\n",
        "    print(f'Temperature in Farenheit: {degF}°F\\nTemperature in Celsius: {degC}°C')\n",
        "  else:\n",
        "    print('Invalid conversion character!')\n",
        "\n",
        "except Exception as e:\n",
        "  print(f'Wrong input! The exception is {e}')\n"
      ],
      "metadata": {
        "colab": {
          "base_uri": "https://localhost:8080/"
        },
        "id": "dJqGsnI3o6SL",
        "outputId": "aa52bf49-63b4-4b19-ede5-a4668c47584e"
      },
      "execution_count": null,
      "outputs": [
        {
          "output_type": "stream",
          "name": "stdout",
          "text": [
            "Temperature Conversion Calculator\n",
            "\n",
            "To convert from Celsius to Farenheit please type: F\n",
            "To convert from Farenheit to Celsius please type: C\n",
            "Please choose the conversion: F\n",
            "Please enter the temperature in °C: 30\n",
            "Temperature in Celsius: 30.0°C\n",
            "Temperature in Fahrenheit: 86.0°F\n"
          ]
        }
      ]
    },
    {
      "cell_type": "code",
      "source": [
        "#test\n",
        "age = input(\"Enter your age: \")\n",
        "\n",
        "if age >= 18:\n",
        "  print('You are eligible to vote!')\n",
        "else:\n",
        "  print('You are not old enougt to vote!')"
      ],
      "metadata": {
        "colab": {
          "base_uri": "https://localhost:8080/",
          "height": 228
        },
        "id": "ggbGoy_hq13w",
        "outputId": "0bbc1c34-60e6-41f1-ca0e-1abcb9116ada"
      },
      "execution_count": null,
      "outputs": [
        {
          "name": "stdout",
          "output_type": "stream",
          "text": [
            "Enter your age: 20\n"
          ]
        },
        {
          "output_type": "error",
          "ename": "TypeError",
          "evalue": "'>=' not supported between instances of 'str' and 'int'",
          "traceback": [
            "\u001b[0;31m---------------------------------------------------------------------------\u001b[0m",
            "\u001b[0;31mTypeError\u001b[0m                                 Traceback (most recent call last)",
            "\u001b[0;32m<ipython-input-43-5af11cbf75ec>\u001b[0m in \u001b[0;36m<cell line: 4>\u001b[0;34m()\u001b[0m\n\u001b[1;32m      2\u001b[0m \u001b[0mage\u001b[0m \u001b[0;34m=\u001b[0m \u001b[0minput\u001b[0m\u001b[0;34m(\u001b[0m\u001b[0;34m\"Enter your age: \"\u001b[0m\u001b[0;34m)\u001b[0m\u001b[0;34m\u001b[0m\u001b[0;34m\u001b[0m\u001b[0m\n\u001b[1;32m      3\u001b[0m \u001b[0;34m\u001b[0m\u001b[0m\n\u001b[0;32m----> 4\u001b[0;31m \u001b[0;32mif\u001b[0m \u001b[0mage\u001b[0m \u001b[0;34m>=\u001b[0m \u001b[0;36m18\u001b[0m\u001b[0;34m:\u001b[0m\u001b[0;34m\u001b[0m\u001b[0;34m\u001b[0m\u001b[0m\n\u001b[0m\u001b[1;32m      5\u001b[0m   \u001b[0mprint\u001b[0m\u001b[0;34m(\u001b[0m\u001b[0;34m'You are eligible to vote!'\u001b[0m\u001b[0;34m)\u001b[0m\u001b[0;34m\u001b[0m\u001b[0;34m\u001b[0m\u001b[0m\n\u001b[1;32m      6\u001b[0m \u001b[0;32melse\u001b[0m\u001b[0;34m:\u001b[0m\u001b[0;34m\u001b[0m\u001b[0;34m\u001b[0m\u001b[0m\n",
            "\u001b[0;31mTypeError\u001b[0m: '>=' not supported between instances of 'str' and 'int'"
          ]
        }
      ]
    },
    {
      "cell_type": "code",
      "source": [
        "#test\n",
        "age = int(input(\"Enter your age: \"))\n",
        "\n",
        "if age >= 18:\n",
        "  print('You are eligible to vote!')\n",
        "else:\n",
        "  print('You are not old enougt to vote!')"
      ],
      "metadata": {
        "colab": {
          "base_uri": "https://localhost:8080/"
        },
        "id": "aZYviha3r7-q",
        "outputId": "8042e544-9e9f-43a7-bdca-92dc28366ee8"
      },
      "execution_count": null,
      "outputs": [
        {
          "output_type": "stream",
          "name": "stdout",
          "text": [
            "Enter your age: 20\n",
            "You are eligible to vote!\n"
          ]
        }
      ]
    },
    {
      "cell_type": "code",
      "source": [
        "#python Chat GPT\n",
        "#Copy code\n",
        "# Function to convert Celsius to Fahrenheit\n",
        "def celsius_to_fahrenheit(celsius):\n",
        "    return (celsius * 9/5) + 32\n",
        "\n",
        "# Function to convert Fahrenheit to Celsius#\n",
        "def fahrenheit_to_celsius(fahrenheit):\n",
        "    return (fahrenheit - 32) * 5/9\n",
        "\n",
        "# Main program\n",
        "print(\"Temperature Conversion Program\")\n",
        "print(\"Select the direction of conversion:\")\n",
        "print(\"1. Celsius to Fahrenheit\")\n",
        "print(\"2. Fahrenheit to Celsius\")\n",
        "\n",
        "# Prompt the user to select the direction of conversion\n",
        "choice = input(\"Enter your choice (1 or 2): \")\n",
        "\n",
        "if choice == \"1\":\n",
        "    # Convert Celsius to Fahrenheit\n",
        "    celsius = float(input(\"Enter the temperature in Celsius: \"))\n",
        "    fahrenheit = celsius_to_fahrenheit(celsius)\n",
        "    print(f\"{celsius}°C is {fahrenheit:.2f}°F\")\n",
        "elif choice == \"2\":\n",
        "    # Convert Fahrenheit to Celsius\n",
        "    fahrenheit = float(input(\"Enter the temperature in Fahrenheit: \"))\n",
        "    celsius = fahrenheit_to_celsius(fahrenheit)\n",
        "    print(f\"{fahrenheit}°F is {celsius:.2f}°C\")\n",
        "else:\n",
        "    print(\"Invalid choice. Please enter 1 or 2.\")\n"
      ],
      "metadata": {
        "colab": {
          "base_uri": "https://localhost:8080/"
        },
        "id": "NYlL2sd8EBvB",
        "outputId": "426a40e9-f4d8-4656-ae6f-12f6b6ac4ac1"
      },
      "execution_count": null,
      "outputs": [
        {
          "output_type": "stream",
          "name": "stdout",
          "text": [
            "Temperature Conversion Program\n",
            "Select the direction of conversion:\n",
            "1. Celsius to Fahrenheit\n",
            "2. Fahrenheit to Celsius\n",
            "Enter your choice (1 or 2): 1\n",
            "Enter the temperature in Celsius: 30\n",
            "30.0°C is 86.00°F\n"
          ]
        }
      ]
    }
  ]
}